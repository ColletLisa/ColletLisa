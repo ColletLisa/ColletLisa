{
  "nbformat": 4,
  "nbformat_minor": 0,
  "metadata": {
    "colab": {
      "provenance": [],
      "mount_file_id": "1gdmXSjbwyZzBOisdE8z7c-rLTK32HL-X",
      "authorship_tag": "ABX9TyOH/OW4arpcObcgWFMh+dIR",
      "include_colab_link": true
    },
    "kernelspec": {
      "name": "python3",
      "display_name": "Python 3"
    },
    "language_info": {
      "name": "python"
    }
  },
  "cells": [
    {
      "cell_type": "markdown",
      "metadata": {
        "id": "view-in-github",
        "colab_type": "text"
      },
      "source": [
        "<a href=\"https://colab.research.google.com/github/ColletLisa/ColletLisa/blob/main/Visualization.ipynb\" target=\"_parent\"><img src=\"https://colab.research.google.com/assets/colab-badge.svg\" alt=\"Open In Colab\"/></a>"
      ]
    },
    {
      "cell_type": "markdown",
      "source": [
        "**Specifying the question**  \n",
        "Using the dataset given from https://ourworldindata.org website,identify the correlation between age and deaths as recorded in the covid 19 "
      ],
      "metadata": {
        "id": "pgcIu6zZPPTP"
      }
    },
    {
      "cell_type": "markdown",
      "source": [
        "**Metrics of success**   \n",
        "This project will be considered successful when we shall be able to \n",
        "identify and visualize the correlation between deaths and age. "
      ],
      "metadata": {
        "id": "EWxoJJvJPTpF"
      }
    },
    {
      "cell_type": "markdown",
      "source": [
        "**Understanding the context**\n",
        "\n",
        "\n",
        "*   Covid-19 was first identified in Wuhan, the capital of China's Hubei province.\n",
        "\n",
        "\n",
        "*   People developed pneumonia without a clear cause and for which existing vaccines or treatments were not effective. \n",
        "*   The virus showed human to human transmission whose rate escalated in mid January 2020,which later spread worldwide.\n",
        "*  Some people died after contracting the virus while others recovered without much strain.The deaths were observed more in specific people such as the old population.\n",
        "\n",
        "\n",
        "\n",
        "\n"
      ],
      "metadata": {
        "id": "k0-HDmsuQmbH"
      }
    },
    {
      "cell_type": "markdown",
      "source": [
        "**Relevance of the data**\n",
        "\n",
        "\n",
        "*   The data contains daily records of the total number of deaths,new cases recorded,population,location,continent etc.\n",
        "\n",
        "\n"
      ],
      "metadata": {
        "id": "4AjhPchdSSd5"
      }
    },
    {
      "cell_type": "markdown",
      "source": [
        "**Data source**\n",
        "\n",
        "https://ourworldindata.org/"
      ],
      "metadata": {
        "id": "gl7s2D0zTBL4"
      }
    },
    {
      "cell_type": "markdown",
      "source": [
        "**Reading the data**"
      ],
      "metadata": {
        "id": "T3w7P_dhTSUW"
      }
    },
    {
      "cell_type": "code",
      "source": [
        "#importing of relevant libraries\n",
        "import pandas as pd\n",
        "import numpy as np\n",
        "import seaborn as sns\n",
        "import matplotlib.pyplot as plt"
      ],
      "metadata": {
        "id": "LDrNrRZmTWYk"
      },
      "execution_count": null,
      "outputs": []
    },
    {
      "cell_type": "code",
      "source": [
        "#reading the dataset using pandas.The data has been downloaded\n",
        "data=pd.read_csv('/content/drive/MyDrive/PROJECT DATASET/covid19_worlddata.csv')\n"
      ],
      "metadata": {
        "id": "WKCYksh0Tzys"
      },
      "execution_count": null,
      "outputs": []
    },
    {
      "cell_type": "markdown",
      "source": [
        "**Checking our data**\n",
        "\n",
        "*   This involves previewing the first and last 5 rows of or data,checking the number of records.\n",
        "*\n",
        "\n"
      ],
      "metadata": {
        "id": "S46mnQISXV2T"
      }
    },
    {
      "cell_type": "code",
      "source": [
        "#checking the first 5 rows\n",
        "data.head()"
      ],
      "metadata": {
        "colab": {
          "base_uri": "https://localhost:8080/",
          "height": 299
        },
        "id": "BOuw7UOCXsHp",
        "outputId": "652cb23c-63d8-45c3-d35e-a5f25f2e381c"
      },
      "execution_count": null,
      "outputs": [
        {
          "output_type": "execute_result",
          "data": {
            "text/plain": [
              "  continent     location       date  total_cases  new_cases  \\\n",
              "0      Asia  Afghanistan  2/24/2020          5.0        5.0   \n",
              "1      Asia  Afghanistan  2/25/2020          5.0        0.0   \n",
              "2      Asia  Afghanistan  2/26/2020          5.0        0.0   \n",
              "3      Asia  Afghanistan  2/27/2020          5.0        0.0   \n",
              "4      Asia  Afghanistan  2/28/2020          5.0        0.0   \n",
              "\n",
              "   new_cases_smoothed  total_deaths  new_deaths  new_deaths_smoothed  \\\n",
              "0                 NaN           NaN         NaN                  NaN   \n",
              "1                 NaN           NaN         NaN                  NaN   \n",
              "2                 NaN           NaN         NaN                  NaN   \n",
              "3                 NaN           NaN         NaN                  NaN   \n",
              "4                 NaN           NaN         NaN                  NaN   \n",
              "\n",
              "   total_cases_per_million  ...  aged_70_older  gdp_per_capita  \\\n",
              "0                    0.125  ...          1.337        1803.987   \n",
              "1                    0.125  ...          1.337        1803.987   \n",
              "2                    0.125  ...          1.337        1803.987   \n",
              "3                    0.125  ...          1.337        1803.987   \n",
              "4                    0.125  ...          1.337        1803.987   \n",
              "\n",
              "   extreme_poverty  cardiovasc_death_rate  diabetes_prevalence  \\\n",
              "0              NaN                597.029                 9.59   \n",
              "1              NaN                597.029                 9.59   \n",
              "2              NaN                597.029                 9.59   \n",
              "3              NaN                597.029                 9.59   \n",
              "4              NaN                597.029                 9.59   \n",
              "\n",
              "   female_smokers  male_smokers  handwashing_facilities  \\\n",
              "0             NaN           NaN                  37.746   \n",
              "1             NaN           NaN                  37.746   \n",
              "2             NaN           NaN                  37.746   \n",
              "3             NaN           NaN                  37.746   \n",
              "4             NaN           NaN                  37.746   \n",
              "\n",
              "   hospital_beds_per_thousand  life_expectancy  \n",
              "0                         0.5            64.83  \n",
              "1                         0.5            64.83  \n",
              "2                         0.5            64.83  \n",
              "3                         0.5            64.83  \n",
              "4                         0.5            64.83  \n",
              "\n",
              "[5 rows x 61 columns]"
            ],
            "text/html": [
              "\n",
              "  <div id=\"df-50e614be-2173-45f1-85e2-47fac0bd1cbd\">\n",
              "    <div class=\"colab-df-container\">\n",
              "      <div>\n",
              "<style scoped>\n",
              "    .dataframe tbody tr th:only-of-type {\n",
              "        vertical-align: middle;\n",
              "    }\n",
              "\n",
              "    .dataframe tbody tr th {\n",
              "        vertical-align: top;\n",
              "    }\n",
              "\n",
              "    .dataframe thead th {\n",
              "        text-align: right;\n",
              "    }\n",
              "</style>\n",
              "<table border=\"1\" class=\"dataframe\">\n",
              "  <thead>\n",
              "    <tr style=\"text-align: right;\">\n",
              "      <th></th>\n",
              "      <th>continent</th>\n",
              "      <th>location</th>\n",
              "      <th>date</th>\n",
              "      <th>total_cases</th>\n",
              "      <th>new_cases</th>\n",
              "      <th>new_cases_smoothed</th>\n",
              "      <th>total_deaths</th>\n",
              "      <th>new_deaths</th>\n",
              "      <th>new_deaths_smoothed</th>\n",
              "      <th>total_cases_per_million</th>\n",
              "      <th>...</th>\n",
              "      <th>aged_70_older</th>\n",
              "      <th>gdp_per_capita</th>\n",
              "      <th>extreme_poverty</th>\n",
              "      <th>cardiovasc_death_rate</th>\n",
              "      <th>diabetes_prevalence</th>\n",
              "      <th>female_smokers</th>\n",
              "      <th>male_smokers</th>\n",
              "      <th>handwashing_facilities</th>\n",
              "      <th>hospital_beds_per_thousand</th>\n",
              "      <th>life_expectancy</th>\n",
              "    </tr>\n",
              "  </thead>\n",
              "  <tbody>\n",
              "    <tr>\n",
              "      <th>0</th>\n",
              "      <td>Asia</td>\n",
              "      <td>Afghanistan</td>\n",
              "      <td>2/24/2020</td>\n",
              "      <td>5.0</td>\n",
              "      <td>5.0</td>\n",
              "      <td>NaN</td>\n",
              "      <td>NaN</td>\n",
              "      <td>NaN</td>\n",
              "      <td>NaN</td>\n",
              "      <td>0.125</td>\n",
              "      <td>...</td>\n",
              "      <td>1.337</td>\n",
              "      <td>1803.987</td>\n",
              "      <td>NaN</td>\n",
              "      <td>597.029</td>\n",
              "      <td>9.59</td>\n",
              "      <td>NaN</td>\n",
              "      <td>NaN</td>\n",
              "      <td>37.746</td>\n",
              "      <td>0.5</td>\n",
              "      <td>64.83</td>\n",
              "    </tr>\n",
              "    <tr>\n",
              "      <th>1</th>\n",
              "      <td>Asia</td>\n",
              "      <td>Afghanistan</td>\n",
              "      <td>2/25/2020</td>\n",
              "      <td>5.0</td>\n",
              "      <td>0.0</td>\n",
              "      <td>NaN</td>\n",
              "      <td>NaN</td>\n",
              "      <td>NaN</td>\n",
              "      <td>NaN</td>\n",
              "      <td>0.125</td>\n",
              "      <td>...</td>\n",
              "      <td>1.337</td>\n",
              "      <td>1803.987</td>\n",
              "      <td>NaN</td>\n",
              "      <td>597.029</td>\n",
              "      <td>9.59</td>\n",
              "      <td>NaN</td>\n",
              "      <td>NaN</td>\n",
              "      <td>37.746</td>\n",
              "      <td>0.5</td>\n",
              "      <td>64.83</td>\n",
              "    </tr>\n",
              "    <tr>\n",
              "      <th>2</th>\n",
              "      <td>Asia</td>\n",
              "      <td>Afghanistan</td>\n",
              "      <td>2/26/2020</td>\n",
              "      <td>5.0</td>\n",
              "      <td>0.0</td>\n",
              "      <td>NaN</td>\n",
              "      <td>NaN</td>\n",
              "      <td>NaN</td>\n",
              "      <td>NaN</td>\n",
              "      <td>0.125</td>\n",
              "      <td>...</td>\n",
              "      <td>1.337</td>\n",
              "      <td>1803.987</td>\n",
              "      <td>NaN</td>\n",
              "      <td>597.029</td>\n",
              "      <td>9.59</td>\n",
              "      <td>NaN</td>\n",
              "      <td>NaN</td>\n",
              "      <td>37.746</td>\n",
              "      <td>0.5</td>\n",
              "      <td>64.83</td>\n",
              "    </tr>\n",
              "    <tr>\n",
              "      <th>3</th>\n",
              "      <td>Asia</td>\n",
              "      <td>Afghanistan</td>\n",
              "      <td>2/27/2020</td>\n",
              "      <td>5.0</td>\n",
              "      <td>0.0</td>\n",
              "      <td>NaN</td>\n",
              "      <td>NaN</td>\n",
              "      <td>NaN</td>\n",
              "      <td>NaN</td>\n",
              "      <td>0.125</td>\n",
              "      <td>...</td>\n",
              "      <td>1.337</td>\n",
              "      <td>1803.987</td>\n",
              "      <td>NaN</td>\n",
              "      <td>597.029</td>\n",
              "      <td>9.59</td>\n",
              "      <td>NaN</td>\n",
              "      <td>NaN</td>\n",
              "      <td>37.746</td>\n",
              "      <td>0.5</td>\n",
              "      <td>64.83</td>\n",
              "    </tr>\n",
              "    <tr>\n",
              "      <th>4</th>\n",
              "      <td>Asia</td>\n",
              "      <td>Afghanistan</td>\n",
              "      <td>2/28/2020</td>\n",
              "      <td>5.0</td>\n",
              "      <td>0.0</td>\n",
              "      <td>NaN</td>\n",
              "      <td>NaN</td>\n",
              "      <td>NaN</td>\n",
              "      <td>NaN</td>\n",
              "      <td>0.125</td>\n",
              "      <td>...</td>\n",
              "      <td>1.337</td>\n",
              "      <td>1803.987</td>\n",
              "      <td>NaN</td>\n",
              "      <td>597.029</td>\n",
              "      <td>9.59</td>\n",
              "      <td>NaN</td>\n",
              "      <td>NaN</td>\n",
              "      <td>37.746</td>\n",
              "      <td>0.5</td>\n",
              "      <td>64.83</td>\n",
              "    </tr>\n",
              "  </tbody>\n",
              "</table>\n",
              "<p>5 rows × 61 columns</p>\n",
              "</div>\n",
              "      <button class=\"colab-df-convert\" onclick=\"convertToInteractive('df-50e614be-2173-45f1-85e2-47fac0bd1cbd')\"\n",
              "              title=\"Convert this dataframe to an interactive table.\"\n",
              "              style=\"display:none;\">\n",
              "        \n",
              "  <svg xmlns=\"http://www.w3.org/2000/svg\" height=\"24px\"viewBox=\"0 0 24 24\"\n",
              "       width=\"24px\">\n",
              "    <path d=\"M0 0h24v24H0V0z\" fill=\"none\"/>\n",
              "    <path d=\"M18.56 5.44l.94 2.06.94-2.06 2.06-.94-2.06-.94-.94-2.06-.94 2.06-2.06.94zm-11 1L8.5 8.5l.94-2.06 2.06-.94-2.06-.94L8.5 2.5l-.94 2.06-2.06.94zm10 10l.94 2.06.94-2.06 2.06-.94-2.06-.94-.94-2.06-.94 2.06-2.06.94z\"/><path d=\"M17.41 7.96l-1.37-1.37c-.4-.4-.92-.59-1.43-.59-.52 0-1.04.2-1.43.59L10.3 9.45l-7.72 7.72c-.78.78-.78 2.05 0 2.83L4 21.41c.39.39.9.59 1.41.59.51 0 1.02-.2 1.41-.59l7.78-7.78 2.81-2.81c.8-.78.8-2.07 0-2.86zM5.41 20L4 18.59l7.72-7.72 1.47 1.35L5.41 20z\"/>\n",
              "  </svg>\n",
              "      </button>\n",
              "      \n",
              "  <style>\n",
              "    .colab-df-container {\n",
              "      display:flex;\n",
              "      flex-wrap:wrap;\n",
              "      gap: 12px;\n",
              "    }\n",
              "\n",
              "    .colab-df-convert {\n",
              "      background-color: #E8F0FE;\n",
              "      border: none;\n",
              "      border-radius: 50%;\n",
              "      cursor: pointer;\n",
              "      display: none;\n",
              "      fill: #1967D2;\n",
              "      height: 32px;\n",
              "      padding: 0 0 0 0;\n",
              "      width: 32px;\n",
              "    }\n",
              "\n",
              "    .colab-df-convert:hover {\n",
              "      background-color: #E2EBFA;\n",
              "      box-shadow: 0px 1px 2px rgba(60, 64, 67, 0.3), 0px 1px 3px 1px rgba(60, 64, 67, 0.15);\n",
              "      fill: #174EA6;\n",
              "    }\n",
              "\n",
              "    [theme=dark] .colab-df-convert {\n",
              "      background-color: #3B4455;\n",
              "      fill: #D2E3FC;\n",
              "    }\n",
              "\n",
              "    [theme=dark] .colab-df-convert:hover {\n",
              "      background-color: #434B5C;\n",
              "      box-shadow: 0px 1px 3px 1px rgba(0, 0, 0, 0.15);\n",
              "      filter: drop-shadow(0px 1px 2px rgba(0, 0, 0, 0.3));\n",
              "      fill: #FFFFFF;\n",
              "    }\n",
              "  </style>\n",
              "\n",
              "      <script>\n",
              "        const buttonEl =\n",
              "          document.querySelector('#df-50e614be-2173-45f1-85e2-47fac0bd1cbd button.colab-df-convert');\n",
              "        buttonEl.style.display =\n",
              "          google.colab.kernel.accessAllowed ? 'block' : 'none';\n",
              "\n",
              "        async function convertToInteractive(key) {\n",
              "          const element = document.querySelector('#df-50e614be-2173-45f1-85e2-47fac0bd1cbd');\n",
              "          const dataTable =\n",
              "            await google.colab.kernel.invokeFunction('convertToInteractive',\n",
              "                                                     [key], {});\n",
              "          if (!dataTable) return;\n",
              "\n",
              "          const docLinkHtml = 'Like what you see? Visit the ' +\n",
              "            '<a target=\"_blank\" href=https://colab.research.google.com/notebooks/data_table.ipynb>data table notebook</a>'\n",
              "            + ' to learn more about interactive tables.';\n",
              "          element.innerHTML = '';\n",
              "          dataTable['output_type'] = 'display_data';\n",
              "          await google.colab.output.renderOutput(dataTable, element);\n",
              "          const docLink = document.createElement('div');\n",
              "          docLink.innerHTML = docLinkHtml;\n",
              "          element.appendChild(docLink);\n",
              "        }\n",
              "      </script>\n",
              "    </div>\n",
              "  </div>\n",
              "  "
            ]
          },
          "metadata": {},
          "execution_count": 3
        }
      ]
    },
    {
      "cell_type": "code",
      "source": [
        "#checking the last 5 rows\n",
        "data.tail()"
      ],
      "metadata": {
        "colab": {
          "base_uri": "https://localhost:8080/",
          "height": 299
        },
        "id": "p4BUHzjiX47P",
        "outputId": "208fd712-d4bf-4799-873e-5fcc43444a02"
      },
      "execution_count": null,
      "outputs": [
        {
          "output_type": "execute_result",
          "data": {
            "text/plain": [
              "       continent  location       date  total_cases  new_cases  \\\n",
              "216811    Africa  Zimbabwe  9/11/2022     256870.0        0.0   \n",
              "216812    Africa  Zimbabwe  9/12/2022     256888.0       18.0   \n",
              "216813    Africa  Zimbabwe  9/13/2022     256904.0       16.0   \n",
              "216814    Africa  Zimbabwe  9/14/2022     256939.0       35.0   \n",
              "216815    Africa  Zimbabwe  9/15/2022     256939.0        0.0   \n",
              "\n",
              "        new_cases_smoothed  total_deaths  new_deaths  new_deaths_smoothed  \\\n",
              "216811              15.286        5596.0         0.0                  0.0   \n",
              "216812              17.000        5596.0         0.0                  0.0   \n",
              "216813              17.429        5596.0         0.0                  0.0   \n",
              "216814              16.286        5596.0         0.0                  0.0   \n",
              "216815              15.000        5596.0         0.0                  0.0   \n",
              "\n",
              "        total_cases_per_million  ...  aged_70_older  gdp_per_capita  \\\n",
              "216811                16060.876  ...          1.882        1899.775   \n",
              "216812                16062.001  ...          1.882        1899.775   \n",
              "216813                16063.001  ...          1.882        1899.775   \n",
              "216814                16065.190  ...          1.882        1899.775   \n",
              "216815                16065.190  ...          1.882        1899.775   \n",
              "\n",
              "        extreme_poverty  cardiovasc_death_rate  diabetes_prevalence  \\\n",
              "216811             21.4                307.846                 1.82   \n",
              "216812             21.4                307.846                 1.82   \n",
              "216813             21.4                307.846                 1.82   \n",
              "216814             21.4                307.846                 1.82   \n",
              "216815             21.4                307.846                 1.82   \n",
              "\n",
              "        female_smokers  male_smokers  handwashing_facilities  \\\n",
              "216811             1.6          30.7                  36.791   \n",
              "216812             1.6          30.7                  36.791   \n",
              "216813             1.6          30.7                  36.791   \n",
              "216814             1.6          30.7                  36.791   \n",
              "216815             1.6          30.7                  36.791   \n",
              "\n",
              "        hospital_beds_per_thousand  life_expectancy  \n",
              "216811                         1.7            61.49  \n",
              "216812                         1.7            61.49  \n",
              "216813                         1.7            61.49  \n",
              "216814                         1.7            61.49  \n",
              "216815                         1.7            61.49  \n",
              "\n",
              "[5 rows x 61 columns]"
            ],
            "text/html": [
              "\n",
              "  <div id=\"df-8f784d32-03d8-4d94-bf10-7997adbec316\">\n",
              "    <div class=\"colab-df-container\">\n",
              "      <div>\n",
              "<style scoped>\n",
              "    .dataframe tbody tr th:only-of-type {\n",
              "        vertical-align: middle;\n",
              "    }\n",
              "\n",
              "    .dataframe tbody tr th {\n",
              "        vertical-align: top;\n",
              "    }\n",
              "\n",
              "    .dataframe thead th {\n",
              "        text-align: right;\n",
              "    }\n",
              "</style>\n",
              "<table border=\"1\" class=\"dataframe\">\n",
              "  <thead>\n",
              "    <tr style=\"text-align: right;\">\n",
              "      <th></th>\n",
              "      <th>continent</th>\n",
              "      <th>location</th>\n",
              "      <th>date</th>\n",
              "      <th>total_cases</th>\n",
              "      <th>new_cases</th>\n",
              "      <th>new_cases_smoothed</th>\n",
              "      <th>total_deaths</th>\n",
              "      <th>new_deaths</th>\n",
              "      <th>new_deaths_smoothed</th>\n",
              "      <th>total_cases_per_million</th>\n",
              "      <th>...</th>\n",
              "      <th>aged_70_older</th>\n",
              "      <th>gdp_per_capita</th>\n",
              "      <th>extreme_poverty</th>\n",
              "      <th>cardiovasc_death_rate</th>\n",
              "      <th>diabetes_prevalence</th>\n",
              "      <th>female_smokers</th>\n",
              "      <th>male_smokers</th>\n",
              "      <th>handwashing_facilities</th>\n",
              "      <th>hospital_beds_per_thousand</th>\n",
              "      <th>life_expectancy</th>\n",
              "    </tr>\n",
              "  </thead>\n",
              "  <tbody>\n",
              "    <tr>\n",
              "      <th>216811</th>\n",
              "      <td>Africa</td>\n",
              "      <td>Zimbabwe</td>\n",
              "      <td>9/11/2022</td>\n",
              "      <td>256870.0</td>\n",
              "      <td>0.0</td>\n",
              "      <td>15.286</td>\n",
              "      <td>5596.0</td>\n",
              "      <td>0.0</td>\n",
              "      <td>0.0</td>\n",
              "      <td>16060.876</td>\n",
              "      <td>...</td>\n",
              "      <td>1.882</td>\n",
              "      <td>1899.775</td>\n",
              "      <td>21.4</td>\n",
              "      <td>307.846</td>\n",
              "      <td>1.82</td>\n",
              "      <td>1.6</td>\n",
              "      <td>30.7</td>\n",
              "      <td>36.791</td>\n",
              "      <td>1.7</td>\n",
              "      <td>61.49</td>\n",
              "    </tr>\n",
              "    <tr>\n",
              "      <th>216812</th>\n",
              "      <td>Africa</td>\n",
              "      <td>Zimbabwe</td>\n",
              "      <td>9/12/2022</td>\n",
              "      <td>256888.0</td>\n",
              "      <td>18.0</td>\n",
              "      <td>17.000</td>\n",
              "      <td>5596.0</td>\n",
              "      <td>0.0</td>\n",
              "      <td>0.0</td>\n",
              "      <td>16062.001</td>\n",
              "      <td>...</td>\n",
              "      <td>1.882</td>\n",
              "      <td>1899.775</td>\n",
              "      <td>21.4</td>\n",
              "      <td>307.846</td>\n",
              "      <td>1.82</td>\n",
              "      <td>1.6</td>\n",
              "      <td>30.7</td>\n",
              "      <td>36.791</td>\n",
              "      <td>1.7</td>\n",
              "      <td>61.49</td>\n",
              "    </tr>\n",
              "    <tr>\n",
              "      <th>216813</th>\n",
              "      <td>Africa</td>\n",
              "      <td>Zimbabwe</td>\n",
              "      <td>9/13/2022</td>\n",
              "      <td>256904.0</td>\n",
              "      <td>16.0</td>\n",
              "      <td>17.429</td>\n",
              "      <td>5596.0</td>\n",
              "      <td>0.0</td>\n",
              "      <td>0.0</td>\n",
              "      <td>16063.001</td>\n",
              "      <td>...</td>\n",
              "      <td>1.882</td>\n",
              "      <td>1899.775</td>\n",
              "      <td>21.4</td>\n",
              "      <td>307.846</td>\n",
              "      <td>1.82</td>\n",
              "      <td>1.6</td>\n",
              "      <td>30.7</td>\n",
              "      <td>36.791</td>\n",
              "      <td>1.7</td>\n",
              "      <td>61.49</td>\n",
              "    </tr>\n",
              "    <tr>\n",
              "      <th>216814</th>\n",
              "      <td>Africa</td>\n",
              "      <td>Zimbabwe</td>\n",
              "      <td>9/14/2022</td>\n",
              "      <td>256939.0</td>\n",
              "      <td>35.0</td>\n",
              "      <td>16.286</td>\n",
              "      <td>5596.0</td>\n",
              "      <td>0.0</td>\n",
              "      <td>0.0</td>\n",
              "      <td>16065.190</td>\n",
              "      <td>...</td>\n",
              "      <td>1.882</td>\n",
              "      <td>1899.775</td>\n",
              "      <td>21.4</td>\n",
              "      <td>307.846</td>\n",
              "      <td>1.82</td>\n",
              "      <td>1.6</td>\n",
              "      <td>30.7</td>\n",
              "      <td>36.791</td>\n",
              "      <td>1.7</td>\n",
              "      <td>61.49</td>\n",
              "    </tr>\n",
              "    <tr>\n",
              "      <th>216815</th>\n",
              "      <td>Africa</td>\n",
              "      <td>Zimbabwe</td>\n",
              "      <td>9/15/2022</td>\n",
              "      <td>256939.0</td>\n",
              "      <td>0.0</td>\n",
              "      <td>15.000</td>\n",
              "      <td>5596.0</td>\n",
              "      <td>0.0</td>\n",
              "      <td>0.0</td>\n",
              "      <td>16065.190</td>\n",
              "      <td>...</td>\n",
              "      <td>1.882</td>\n",
              "      <td>1899.775</td>\n",
              "      <td>21.4</td>\n",
              "      <td>307.846</td>\n",
              "      <td>1.82</td>\n",
              "      <td>1.6</td>\n",
              "      <td>30.7</td>\n",
              "      <td>36.791</td>\n",
              "      <td>1.7</td>\n",
              "      <td>61.49</td>\n",
              "    </tr>\n",
              "  </tbody>\n",
              "</table>\n",
              "<p>5 rows × 61 columns</p>\n",
              "</div>\n",
              "      <button class=\"colab-df-convert\" onclick=\"convertToInteractive('df-8f784d32-03d8-4d94-bf10-7997adbec316')\"\n",
              "              title=\"Convert this dataframe to an interactive table.\"\n",
              "              style=\"display:none;\">\n",
              "        \n",
              "  <svg xmlns=\"http://www.w3.org/2000/svg\" height=\"24px\"viewBox=\"0 0 24 24\"\n",
              "       width=\"24px\">\n",
              "    <path d=\"M0 0h24v24H0V0z\" fill=\"none\"/>\n",
              "    <path d=\"M18.56 5.44l.94 2.06.94-2.06 2.06-.94-2.06-.94-.94-2.06-.94 2.06-2.06.94zm-11 1L8.5 8.5l.94-2.06 2.06-.94-2.06-.94L8.5 2.5l-.94 2.06-2.06.94zm10 10l.94 2.06.94-2.06 2.06-.94-2.06-.94-.94-2.06-.94 2.06-2.06.94z\"/><path d=\"M17.41 7.96l-1.37-1.37c-.4-.4-.92-.59-1.43-.59-.52 0-1.04.2-1.43.59L10.3 9.45l-7.72 7.72c-.78.78-.78 2.05 0 2.83L4 21.41c.39.39.9.59 1.41.59.51 0 1.02-.2 1.41-.59l7.78-7.78 2.81-2.81c.8-.78.8-2.07 0-2.86zM5.41 20L4 18.59l7.72-7.72 1.47 1.35L5.41 20z\"/>\n",
              "  </svg>\n",
              "      </button>\n",
              "      \n",
              "  <style>\n",
              "    .colab-df-container {\n",
              "      display:flex;\n",
              "      flex-wrap:wrap;\n",
              "      gap: 12px;\n",
              "    }\n",
              "\n",
              "    .colab-df-convert {\n",
              "      background-color: #E8F0FE;\n",
              "      border: none;\n",
              "      border-radius: 50%;\n",
              "      cursor: pointer;\n",
              "      display: none;\n",
              "      fill: #1967D2;\n",
              "      height: 32px;\n",
              "      padding: 0 0 0 0;\n",
              "      width: 32px;\n",
              "    }\n",
              "\n",
              "    .colab-df-convert:hover {\n",
              "      background-color: #E2EBFA;\n",
              "      box-shadow: 0px 1px 2px rgba(60, 64, 67, 0.3), 0px 1px 3px 1px rgba(60, 64, 67, 0.15);\n",
              "      fill: #174EA6;\n",
              "    }\n",
              "\n",
              "    [theme=dark] .colab-df-convert {\n",
              "      background-color: #3B4455;\n",
              "      fill: #D2E3FC;\n",
              "    }\n",
              "\n",
              "    [theme=dark] .colab-df-convert:hover {\n",
              "      background-color: #434B5C;\n",
              "      box-shadow: 0px 1px 3px 1px rgba(0, 0, 0, 0.15);\n",
              "      filter: drop-shadow(0px 1px 2px rgba(0, 0, 0, 0.3));\n",
              "      fill: #FFFFFF;\n",
              "    }\n",
              "  </style>\n",
              "\n",
              "      <script>\n",
              "        const buttonEl =\n",
              "          document.querySelector('#df-8f784d32-03d8-4d94-bf10-7997adbec316 button.colab-df-convert');\n",
              "        buttonEl.style.display =\n",
              "          google.colab.kernel.accessAllowed ? 'block' : 'none';\n",
              "\n",
              "        async function convertToInteractive(key) {\n",
              "          const element = document.querySelector('#df-8f784d32-03d8-4d94-bf10-7997adbec316');\n",
              "          const dataTable =\n",
              "            await google.colab.kernel.invokeFunction('convertToInteractive',\n",
              "                                                     [key], {});\n",
              "          if (!dataTable) return;\n",
              "\n",
              "          const docLinkHtml = 'Like what you see? Visit the ' +\n",
              "            '<a target=\"_blank\" href=https://colab.research.google.com/notebooks/data_table.ipynb>data table notebook</a>'\n",
              "            + ' to learn more about interactive tables.';\n",
              "          element.innerHTML = '';\n",
              "          dataTable['output_type'] = 'display_data';\n",
              "          await google.colab.output.renderOutput(dataTable, element);\n",
              "          const docLink = document.createElement('div');\n",
              "          docLink.innerHTML = docLinkHtml;\n",
              "          element.appendChild(docLink);\n",
              "        }\n",
              "      </script>\n",
              "    </div>\n",
              "  </div>\n",
              "  "
            ]
          },
          "metadata": {},
          "execution_count": 4
        }
      ]
    },
    {
      "cell_type": "code",
      "source": [
        "data.shape"
      ],
      "metadata": {
        "colab": {
          "base_uri": "https://localhost:8080/"
        },
        "id": "_6pcUlRyYBv6",
        "outputId": "db9214c8-a61b-4e2d-8a81-7488acf83750"
      },
      "execution_count": null,
      "outputs": [
        {
          "output_type": "execute_result",
          "data": {
            "text/plain": [
              "(216816, 61)"
            ]
          },
          "metadata": {},
          "execution_count": 5
        }
      ]
    },
    {
      "cell_type": "markdown",
      "source": [
        "**Observation**\n",
        "\n",
        "\n",
        "*   From the above output,our data has 216816 rows and 61 columns.\n",
        "NOTE:Some of the columns will be droped as we will not need them in our analysis.\n",
        "\n",
        "\n"
      ],
      "metadata": {
        "id": "uWS6m6_UYHC3"
      }
    },
    {
      "cell_type": "code",
      "source": [
        "#checking for the columns in our data\n",
        "data.columns"
      ],
      "metadata": {
        "colab": {
          "base_uri": "https://localhost:8080/"
        },
        "id": "7VoIKApgYw0V",
        "outputId": "3656f102-2f1f-4256-ee6b-c76564f0ff3e"
      },
      "execution_count": null,
      "outputs": [
        {
          "output_type": "execute_result",
          "data": {
            "text/plain": [
              "Index(['continent', 'location', 'date', 'total_cases', 'new_cases',\n",
              "       'new_cases_smoothed', 'total_deaths', 'new_deaths',\n",
              "       'new_deaths_smoothed', 'total_cases_per_million',\n",
              "       'new_cases_per_million', 'new_cases_smoothed_per_million',\n",
              "       'total_deaths_per_million', 'new_deaths_per_million',\n",
              "       'new_deaths_smoothed_per_million', 'reproduction_rate', 'icu_patients',\n",
              "       'icu_patients_per_million', 'hosp_patients',\n",
              "       'hosp_patients_per_million', 'weekly_icu_admissions',\n",
              "       'weekly_icu_admissions_per_million', 'weekly_hosp_admissions',\n",
              "       'weekly_hosp_admissions_per_million', 'total_tests', 'new_tests',\n",
              "       'total_tests_per_thousand', 'new_tests_per_thousand',\n",
              "       'new_tests_smoothed', 'new_tests_smoothed_per_thousand',\n",
              "       'positive_rate', 'tests_per_case', 'tests_units', 'total_vaccinations',\n",
              "       'people_vaccinated', 'people_fully_vaccinated', 'total_boosters',\n",
              "       'new_vaccinations', 'new_vaccinations_smoothed',\n",
              "       'total_vaccinations_per_hundred', 'people_vaccinated_per_hundred',\n",
              "       'people_fully_vaccinated_per_hundred', 'total_boosters_per_hundred',\n",
              "       'new_vaccinations_smoothed_per_million',\n",
              "       'new_people_vaccinated_smoothed',\n",
              "       'new_people_vaccinated_smoothed_per_hundred', 'stringency_index',\n",
              "       'population', 'population_density', 'median_age', 'aged_65_older',\n",
              "       'aged_70_older', 'gdp_per_capita', 'extreme_poverty',\n",
              "       'cardiovasc_death_rate', 'diabetes_prevalence', 'female_smokers',\n",
              "       'male_smokers', 'handwashing_facilities', 'hospital_beds_per_thousand',\n",
              "       'life_expectancy'],\n",
              "      dtype='object')"
            ]
          },
          "metadata": {},
          "execution_count": 6
        }
      ]
    },
    {
      "cell_type": "markdown",
      "source": [
        "**Observation**\n",
        "\n",
        "\n",
        "*  The data has a lot of columns which might not be necessary in our research.\n",
        "\n",
        "\n"
      ],
      "metadata": {
        "id": "njmYCXF9Y8Gk"
      }
    },
    {
      "cell_type": "code",
      "source": [
        "#checking for general information in our dataset\n",
        "data.info()"
      ],
      "metadata": {
        "colab": {
          "base_uri": "https://localhost:8080/"
        },
        "id": "zoiMzdvmZecQ",
        "outputId": "a90eabe5-b7bf-440a-d6d8-c03c2dd08940"
      },
      "execution_count": null,
      "outputs": [
        {
          "output_type": "stream",
          "name": "stdout",
          "text": [
            "<class 'pandas.core.frame.DataFrame'>\n",
            "RangeIndex: 216816 entries, 0 to 216815\n",
            "Data columns (total 61 columns):\n",
            " #   Column                                      Non-Null Count   Dtype  \n",
            "---  ------                                      --------------   -----  \n",
            " 0   continent                                   204338 non-null  object \n",
            " 1   location                                    216816 non-null  object \n",
            " 2   date                                        216816 non-null  object \n",
            " 3   total_cases                                 207912 non-null  float64\n",
            " 4   new_cases                                   207672 non-null  float64\n",
            " 5   new_cases_smoothed                          206480 non-null  float64\n",
            " 6   total_deaths                                188868 non-null  float64\n",
            " 7   new_deaths                                  188820 non-null  float64\n",
            " 8   new_deaths_smoothed                         187640 non-null  float64\n",
            " 9   total_cases_per_million                     206960 non-null  float64\n",
            " 10  new_cases_per_million                       206720 non-null  float64\n",
            " 11  new_cases_smoothed_per_million              205533 non-null  float64\n",
            " 12  total_deaths_per_million                    187929 non-null  float64\n",
            " 13  new_deaths_per_million                      187881 non-null  float64\n",
            " 14  new_deaths_smoothed_per_million             186706 non-null  float64\n",
            " 15  reproduction_rate                           162947 non-null  float64\n",
            " 16  icu_patients                                27640 non-null   float64\n",
            " 17  icu_patients_per_million                    27640 non-null   float64\n",
            " 18  hosp_patients                               30374 non-null   float64\n",
            " 19  hosp_patients_per_million                   30374 non-null   float64\n",
            " 20  weekly_icu_admissions                       7119 non-null    float64\n",
            " 21  weekly_icu_admissions_per_million           7119 non-null    float64\n",
            " 22  weekly_hosp_admissions                      14082 non-null   float64\n",
            " 23  weekly_hosp_admissions_per_million          14082 non-null   float64\n",
            " 24  total_tests                                 79387 non-null   float64\n",
            " 25  new_tests                                   75403 non-null   float64\n",
            " 26  total_tests_per_thousand                    79387 non-null   float64\n",
            " 27  new_tests_per_thousand                      75403 non-null   float64\n",
            " 28  new_tests_smoothed                          103965 non-null  float64\n",
            " 29  new_tests_smoothed_per_thousand             103965 non-null  float64\n",
            " 30  positive_rate                               95927 non-null   float64\n",
            " 31  tests_per_case                              94348 non-null   float64\n",
            " 32  tests_units                                 106788 non-null  object \n",
            " 33  total_vaccinations                          60687 non-null   float64\n",
            " 34  people_vaccinated                           57994 non-null   float64\n",
            " 35  people_fully_vaccinated                     55251 non-null   float64\n",
            " 36  total_boosters                              32138 non-null   float64\n",
            " 37  new_vaccinations                            49913 non-null   float64\n",
            " 38  new_vaccinations_smoothed                   124507 non-null  float64\n",
            " 39  total_vaccinations_per_hundred              60687 non-null   float64\n",
            " 40  people_vaccinated_per_hundred               57994 non-null   float64\n",
            " 41  people_fully_vaccinated_per_hundred         55251 non-null   float64\n",
            " 42  total_boosters_per_hundred                  32138 non-null   float64\n",
            " 43  new_vaccinations_smoothed_per_million       124507 non-null  float64\n",
            " 44  new_people_vaccinated_smoothed              123810 non-null  float64\n",
            " 45  new_people_vaccinated_smoothed_per_hundred  123810 non-null  float64\n",
            " 46  stringency_index                            163207 non-null  float64\n",
            " 47  population                                  215547 non-null  float64\n",
            " 48  population_density                          192524 non-null  float64\n",
            " 49  median_age                                  178199 non-null  float64\n",
            " 50  aged_65_older                               176316 non-null  float64\n",
            " 51  aged_70_older                               177266 non-null  float64\n",
            " 52  gdp_per_capita                              177467 non-null  float64\n",
            " 53  extreme_poverty                             115770 non-null  float64\n",
            " 54  cardiovasc_death_rate                       177735 non-null  float64\n",
            " 55  diabetes_prevalence                         186804 non-null  float64\n",
            " 56  female_smokers                              134591 non-null  float64\n",
            " 57  male_smokers                                132748 non-null  float64\n",
            " 58  handwashing_facilities                      87357 non-null   float64\n",
            " 59  hospital_beds_per_thousand                  158078 non-null  float64\n",
            " 60  life_expectancy                             202550 non-null  float64\n",
            "dtypes: float64(57), object(4)\n",
            "memory usage: 100.9+ MB\n"
          ]
        }
      ]
    },
    {
      "cell_type": "markdown",
      "source": [
        "**Observation**\n",
        "\n",
        "\n",
        "*   Most of our varibbles are float(numerical data).Only 4 of the variables are categorical(string). It is therefore safe for us to say that our variables are in their correct data types.\n",
        "\n",
        "\n"
      ],
      "metadata": {
        "id": "tELXORVEZo0s"
      }
    },
    {
      "cell_type": "code",
      "source": [
        "#checking for descriptive statistical information of our continuous data\n",
        "data.describe()"
      ],
      "metadata": {
        "colab": {
          "base_uri": "https://localhost:8080/",
          "height": 393
        },
        "id": "DfISZIy7acnu",
        "outputId": "2c44044a-7130-4bd6-ba21-c4091c2a1cbd"
      },
      "execution_count": null,
      "outputs": [
        {
          "output_type": "execute_result",
          "data": {
            "text/plain": [
              "        total_cases     new_cases  new_cases_smoothed  total_deaths  \\\n",
              "count  2.079120e+05  2.076720e+05        2.064800e+05  1.888680e+05   \n",
              "mean   4.137317e+06  1.254565e+04        1.257892e+04  7.184467e+04   \n",
              "std    2.595932e+07  8.656681e+04        8.463003e+04  3.706375e+05   \n",
              "min    1.000000e+00  0.000000e+00        0.000000e+00  1.000000e+00   \n",
              "25%    3.865750e+03  0.000000e+00        6.571000e+00  1.080000e+02   \n",
              "50%    4.527700e+04  6.000000e+01        9.842900e+01  1.103000e+03   \n",
              "75%    4.896838e+05  9.910000e+02        1.151143e+03  9.389250e+03   \n",
              "max    6.108720e+08  4.081627e+06        3.436128e+06  6.522661e+06   \n",
              "\n",
              "          new_deaths  new_deaths_smoothed  total_cases_per_million  \\\n",
              "count  188820.000000        187640.000000            206960.000000   \n",
              "mean      143.426893           144.150640             55324.319588   \n",
              "std       745.315063           730.773044             99592.136138   \n",
              "min         0.000000             0.000000                 0.001000   \n",
              "25%         0.000000             0.000000               980.340750   \n",
              "50%         1.000000             1.714000              9350.120500   \n",
              "75%        15.000000            16.571000             66894.426000   \n",
              "max     17737.000000         14858.143000            655309.333000   \n",
              "\n",
              "       new_cases_per_million  new_cases_smoothed_per_million  \\\n",
              "count          206720.000000                   205533.000000   \n",
              "mean              190.189953                      190.569417   \n",
              "std               981.113760                      647.080255   \n",
              "min                 0.000000                        0.000000   \n",
              "25%                 0.000000                        1.436000   \n",
              "50%                 8.463500                       20.114000   \n",
              "75%               100.686000                      137.333000   \n",
              "max            195005.313000                    35258.843000   \n",
              "\n",
              "       total_deaths_per_million  ...  aged_70_older  gdp_per_capita  \\\n",
              "count             187929.000000  ...  177266.000000   177467.000000   \n",
              "mean                 666.496692  ...       5.559468    19566.631623   \n",
              "std                  954.008584  ...       4.163558    20552.681283   \n",
              "min                    0.000000  ...       0.526000      661.240000   \n",
              "25%                   28.177000  ...       2.063000     4449.898000   \n",
              "50%                  197.622000  ...       4.209000    12951.839000   \n",
              "75%                  987.455000  ...       8.678000    27936.896000   \n",
              "max                 6413.524000  ...      18.493000   116935.600000   \n",
              "\n",
              "       extreme_poverty  cardiovasc_death_rate  diabetes_prevalence  \\\n",
              "count    115770.000000          177735.000000        186804.000000   \n",
              "mean         13.626532             261.078287             8.384753   \n",
              "std          20.029588             119.952208             4.729657   \n",
              "min           0.100000              79.370000             0.990000   \n",
              "25%           0.600000             170.050000             5.310000   \n",
              "50%           2.200000             243.964000             7.200000   \n",
              "75%          21.200000             329.942000            10.590000   \n",
              "max          77.600000             724.417000            30.530000   \n",
              "\n",
              "       female_smokers   male_smokers  handwashing_facilities  \\\n",
              "count   134591.000000  132748.000000            87357.000000   \n",
              "mean        10.671708      32.806294               50.850004   \n",
              "std         10.620804      13.533344               31.841980   \n",
              "min          0.100000       7.700000                1.188000   \n",
              "25%          1.900000      21.600000               20.859000   \n",
              "50%          6.300000      31.400000               49.839000   \n",
              "75%         19.300000      41.300000               82.502000   \n",
              "max         44.000000      78.100000              100.000000   \n",
              "\n",
              "       hospital_beds_per_thousand  life_expectancy  \n",
              "count               158078.000000    202550.000000  \n",
              "mean                     3.084695        73.629860  \n",
              "std                      2.550247         7.447488  \n",
              "min                      0.100000        53.280000  \n",
              "25%                      1.300000        69.500000  \n",
              "50%                      2.500000        75.050000  \n",
              "75%                      4.200000        79.070000  \n",
              "max                     13.800000        86.750000  \n",
              "\n",
              "[8 rows x 57 columns]"
            ],
            "text/html": [
              "\n",
              "  <div id=\"df-b84ad545-a330-4e12-a377-b0771e14bb52\">\n",
              "    <div class=\"colab-df-container\">\n",
              "      <div>\n",
              "<style scoped>\n",
              "    .dataframe tbody tr th:only-of-type {\n",
              "        vertical-align: middle;\n",
              "    }\n",
              "\n",
              "    .dataframe tbody tr th {\n",
              "        vertical-align: top;\n",
              "    }\n",
              "\n",
              "    .dataframe thead th {\n",
              "        text-align: right;\n",
              "    }\n",
              "</style>\n",
              "<table border=\"1\" class=\"dataframe\">\n",
              "  <thead>\n",
              "    <tr style=\"text-align: right;\">\n",
              "      <th></th>\n",
              "      <th>total_cases</th>\n",
              "      <th>new_cases</th>\n",
              "      <th>new_cases_smoothed</th>\n",
              "      <th>total_deaths</th>\n",
              "      <th>new_deaths</th>\n",
              "      <th>new_deaths_smoothed</th>\n",
              "      <th>total_cases_per_million</th>\n",
              "      <th>new_cases_per_million</th>\n",
              "      <th>new_cases_smoothed_per_million</th>\n",
              "      <th>total_deaths_per_million</th>\n",
              "      <th>...</th>\n",
              "      <th>aged_70_older</th>\n",
              "      <th>gdp_per_capita</th>\n",
              "      <th>extreme_poverty</th>\n",
              "      <th>cardiovasc_death_rate</th>\n",
              "      <th>diabetes_prevalence</th>\n",
              "      <th>female_smokers</th>\n",
              "      <th>male_smokers</th>\n",
              "      <th>handwashing_facilities</th>\n",
              "      <th>hospital_beds_per_thousand</th>\n",
              "      <th>life_expectancy</th>\n",
              "    </tr>\n",
              "  </thead>\n",
              "  <tbody>\n",
              "    <tr>\n",
              "      <th>count</th>\n",
              "      <td>2.079120e+05</td>\n",
              "      <td>2.076720e+05</td>\n",
              "      <td>2.064800e+05</td>\n",
              "      <td>1.888680e+05</td>\n",
              "      <td>188820.000000</td>\n",
              "      <td>187640.000000</td>\n",
              "      <td>206960.000000</td>\n",
              "      <td>206720.000000</td>\n",
              "      <td>205533.000000</td>\n",
              "      <td>187929.000000</td>\n",
              "      <td>...</td>\n",
              "      <td>177266.000000</td>\n",
              "      <td>177467.000000</td>\n",
              "      <td>115770.000000</td>\n",
              "      <td>177735.000000</td>\n",
              "      <td>186804.000000</td>\n",
              "      <td>134591.000000</td>\n",
              "      <td>132748.000000</td>\n",
              "      <td>87357.000000</td>\n",
              "      <td>158078.000000</td>\n",
              "      <td>202550.000000</td>\n",
              "    </tr>\n",
              "    <tr>\n",
              "      <th>mean</th>\n",
              "      <td>4.137317e+06</td>\n",
              "      <td>1.254565e+04</td>\n",
              "      <td>1.257892e+04</td>\n",
              "      <td>7.184467e+04</td>\n",
              "      <td>143.426893</td>\n",
              "      <td>144.150640</td>\n",
              "      <td>55324.319588</td>\n",
              "      <td>190.189953</td>\n",
              "      <td>190.569417</td>\n",
              "      <td>666.496692</td>\n",
              "      <td>...</td>\n",
              "      <td>5.559468</td>\n",
              "      <td>19566.631623</td>\n",
              "      <td>13.626532</td>\n",
              "      <td>261.078287</td>\n",
              "      <td>8.384753</td>\n",
              "      <td>10.671708</td>\n",
              "      <td>32.806294</td>\n",
              "      <td>50.850004</td>\n",
              "      <td>3.084695</td>\n",
              "      <td>73.629860</td>\n",
              "    </tr>\n",
              "    <tr>\n",
              "      <th>std</th>\n",
              "      <td>2.595932e+07</td>\n",
              "      <td>8.656681e+04</td>\n",
              "      <td>8.463003e+04</td>\n",
              "      <td>3.706375e+05</td>\n",
              "      <td>745.315063</td>\n",
              "      <td>730.773044</td>\n",
              "      <td>99592.136138</td>\n",
              "      <td>981.113760</td>\n",
              "      <td>647.080255</td>\n",
              "      <td>954.008584</td>\n",
              "      <td>...</td>\n",
              "      <td>4.163558</td>\n",
              "      <td>20552.681283</td>\n",
              "      <td>20.029588</td>\n",
              "      <td>119.952208</td>\n",
              "      <td>4.729657</td>\n",
              "      <td>10.620804</td>\n",
              "      <td>13.533344</td>\n",
              "      <td>31.841980</td>\n",
              "      <td>2.550247</td>\n",
              "      <td>7.447488</td>\n",
              "    </tr>\n",
              "    <tr>\n",
              "      <th>min</th>\n",
              "      <td>1.000000e+00</td>\n",
              "      <td>0.000000e+00</td>\n",
              "      <td>0.000000e+00</td>\n",
              "      <td>1.000000e+00</td>\n",
              "      <td>0.000000</td>\n",
              "      <td>0.000000</td>\n",
              "      <td>0.001000</td>\n",
              "      <td>0.000000</td>\n",
              "      <td>0.000000</td>\n",
              "      <td>0.000000</td>\n",
              "      <td>...</td>\n",
              "      <td>0.526000</td>\n",
              "      <td>661.240000</td>\n",
              "      <td>0.100000</td>\n",
              "      <td>79.370000</td>\n",
              "      <td>0.990000</td>\n",
              "      <td>0.100000</td>\n",
              "      <td>7.700000</td>\n",
              "      <td>1.188000</td>\n",
              "      <td>0.100000</td>\n",
              "      <td>53.280000</td>\n",
              "    </tr>\n",
              "    <tr>\n",
              "      <th>25%</th>\n",
              "      <td>3.865750e+03</td>\n",
              "      <td>0.000000e+00</td>\n",
              "      <td>6.571000e+00</td>\n",
              "      <td>1.080000e+02</td>\n",
              "      <td>0.000000</td>\n",
              "      <td>0.000000</td>\n",
              "      <td>980.340750</td>\n",
              "      <td>0.000000</td>\n",
              "      <td>1.436000</td>\n",
              "      <td>28.177000</td>\n",
              "      <td>...</td>\n",
              "      <td>2.063000</td>\n",
              "      <td>4449.898000</td>\n",
              "      <td>0.600000</td>\n",
              "      <td>170.050000</td>\n",
              "      <td>5.310000</td>\n",
              "      <td>1.900000</td>\n",
              "      <td>21.600000</td>\n",
              "      <td>20.859000</td>\n",
              "      <td>1.300000</td>\n",
              "      <td>69.500000</td>\n",
              "    </tr>\n",
              "    <tr>\n",
              "      <th>50%</th>\n",
              "      <td>4.527700e+04</td>\n",
              "      <td>6.000000e+01</td>\n",
              "      <td>9.842900e+01</td>\n",
              "      <td>1.103000e+03</td>\n",
              "      <td>1.000000</td>\n",
              "      <td>1.714000</td>\n",
              "      <td>9350.120500</td>\n",
              "      <td>8.463500</td>\n",
              "      <td>20.114000</td>\n",
              "      <td>197.622000</td>\n",
              "      <td>...</td>\n",
              "      <td>4.209000</td>\n",
              "      <td>12951.839000</td>\n",
              "      <td>2.200000</td>\n",
              "      <td>243.964000</td>\n",
              "      <td>7.200000</td>\n",
              "      <td>6.300000</td>\n",
              "      <td>31.400000</td>\n",
              "      <td>49.839000</td>\n",
              "      <td>2.500000</td>\n",
              "      <td>75.050000</td>\n",
              "    </tr>\n",
              "    <tr>\n",
              "      <th>75%</th>\n",
              "      <td>4.896838e+05</td>\n",
              "      <td>9.910000e+02</td>\n",
              "      <td>1.151143e+03</td>\n",
              "      <td>9.389250e+03</td>\n",
              "      <td>15.000000</td>\n",
              "      <td>16.571000</td>\n",
              "      <td>66894.426000</td>\n",
              "      <td>100.686000</td>\n",
              "      <td>137.333000</td>\n",
              "      <td>987.455000</td>\n",
              "      <td>...</td>\n",
              "      <td>8.678000</td>\n",
              "      <td>27936.896000</td>\n",
              "      <td>21.200000</td>\n",
              "      <td>329.942000</td>\n",
              "      <td>10.590000</td>\n",
              "      <td>19.300000</td>\n",
              "      <td>41.300000</td>\n",
              "      <td>82.502000</td>\n",
              "      <td>4.200000</td>\n",
              "      <td>79.070000</td>\n",
              "    </tr>\n",
              "    <tr>\n",
              "      <th>max</th>\n",
              "      <td>6.108720e+08</td>\n",
              "      <td>4.081627e+06</td>\n",
              "      <td>3.436128e+06</td>\n",
              "      <td>6.522661e+06</td>\n",
              "      <td>17737.000000</td>\n",
              "      <td>14858.143000</td>\n",
              "      <td>655309.333000</td>\n",
              "      <td>195005.313000</td>\n",
              "      <td>35258.843000</td>\n",
              "      <td>6413.524000</td>\n",
              "      <td>...</td>\n",
              "      <td>18.493000</td>\n",
              "      <td>116935.600000</td>\n",
              "      <td>77.600000</td>\n",
              "      <td>724.417000</td>\n",
              "      <td>30.530000</td>\n",
              "      <td>44.000000</td>\n",
              "      <td>78.100000</td>\n",
              "      <td>100.000000</td>\n",
              "      <td>13.800000</td>\n",
              "      <td>86.750000</td>\n",
              "    </tr>\n",
              "  </tbody>\n",
              "</table>\n",
              "<p>8 rows × 57 columns</p>\n",
              "</div>\n",
              "      <button class=\"colab-df-convert\" onclick=\"convertToInteractive('df-b84ad545-a330-4e12-a377-b0771e14bb52')\"\n",
              "              title=\"Convert this dataframe to an interactive table.\"\n",
              "              style=\"display:none;\">\n",
              "        \n",
              "  <svg xmlns=\"http://www.w3.org/2000/svg\" height=\"24px\"viewBox=\"0 0 24 24\"\n",
              "       width=\"24px\">\n",
              "    <path d=\"M0 0h24v24H0V0z\" fill=\"none\"/>\n",
              "    <path d=\"M18.56 5.44l.94 2.06.94-2.06 2.06-.94-2.06-.94-.94-2.06-.94 2.06-2.06.94zm-11 1L8.5 8.5l.94-2.06 2.06-.94-2.06-.94L8.5 2.5l-.94 2.06-2.06.94zm10 10l.94 2.06.94-2.06 2.06-.94-2.06-.94-.94-2.06-.94 2.06-2.06.94z\"/><path d=\"M17.41 7.96l-1.37-1.37c-.4-.4-.92-.59-1.43-.59-.52 0-1.04.2-1.43.59L10.3 9.45l-7.72 7.72c-.78.78-.78 2.05 0 2.83L4 21.41c.39.39.9.59 1.41.59.51 0 1.02-.2 1.41-.59l7.78-7.78 2.81-2.81c.8-.78.8-2.07 0-2.86zM5.41 20L4 18.59l7.72-7.72 1.47 1.35L5.41 20z\"/>\n",
              "  </svg>\n",
              "      </button>\n",
              "      \n",
              "  <style>\n",
              "    .colab-df-container {\n",
              "      display:flex;\n",
              "      flex-wrap:wrap;\n",
              "      gap: 12px;\n",
              "    }\n",
              "\n",
              "    .colab-df-convert {\n",
              "      background-color: #E8F0FE;\n",
              "      border: none;\n",
              "      border-radius: 50%;\n",
              "      cursor: pointer;\n",
              "      display: none;\n",
              "      fill: #1967D2;\n",
              "      height: 32px;\n",
              "      padding: 0 0 0 0;\n",
              "      width: 32px;\n",
              "    }\n",
              "\n",
              "    .colab-df-convert:hover {\n",
              "      background-color: #E2EBFA;\n",
              "      box-shadow: 0px 1px 2px rgba(60, 64, 67, 0.3), 0px 1px 3px 1px rgba(60, 64, 67, 0.15);\n",
              "      fill: #174EA6;\n",
              "    }\n",
              "\n",
              "    [theme=dark] .colab-df-convert {\n",
              "      background-color: #3B4455;\n",
              "      fill: #D2E3FC;\n",
              "    }\n",
              "\n",
              "    [theme=dark] .colab-df-convert:hover {\n",
              "      background-color: #434B5C;\n",
              "      box-shadow: 0px 1px 3px 1px rgba(0, 0, 0, 0.15);\n",
              "      filter: drop-shadow(0px 1px 2px rgba(0, 0, 0, 0.3));\n",
              "      fill: #FFFFFF;\n",
              "    }\n",
              "  </style>\n",
              "\n",
              "      <script>\n",
              "        const buttonEl =\n",
              "          document.querySelector('#df-b84ad545-a330-4e12-a377-b0771e14bb52 button.colab-df-convert');\n",
              "        buttonEl.style.display =\n",
              "          google.colab.kernel.accessAllowed ? 'block' : 'none';\n",
              "\n",
              "        async function convertToInteractive(key) {\n",
              "          const element = document.querySelector('#df-b84ad545-a330-4e12-a377-b0771e14bb52');\n",
              "          const dataTable =\n",
              "            await google.colab.kernel.invokeFunction('convertToInteractive',\n",
              "                                                     [key], {});\n",
              "          if (!dataTable) return;\n",
              "\n",
              "          const docLinkHtml = 'Like what you see? Visit the ' +\n",
              "            '<a target=\"_blank\" href=https://colab.research.google.com/notebooks/data_table.ipynb>data table notebook</a>'\n",
              "            + ' to learn more about interactive tables.';\n",
              "          element.innerHTML = '';\n",
              "          dataTable['output_type'] = 'display_data';\n",
              "          await google.colab.output.renderOutput(dataTable, element);\n",
              "          const docLink = document.createElement('div');\n",
              "          docLink.innerHTML = docLinkHtml;\n",
              "          element.appendChild(docLink);\n",
              "        }\n",
              "      </script>\n",
              "    </div>\n",
              "  </div>\n",
              "  "
            ]
          },
          "metadata": {},
          "execution_count": 8
        }
      ]
    },
    {
      "cell_type": "markdown",
      "source": [
        "This helps in highlighting the minimum and maximum values,mean,standard deviation,and quartile ranges in the continuous variables."
      ],
      "metadata": {
        "id": "ouAkQvrHdCor"
      }
    },
    {
      "cell_type": "markdown",
      "source": [
        "**Data Cleaning**\n",
        "\n",
        "\n",
        "This is the process of fixing or removing incorrect, corrupted, incorrectly formatted, duplicate, or incomplete data within the dataset.\n",
        "\n",
        "\n"
      ],
      "metadata": {
        "id": "rCxEDKRpdfXP"
      }
    },
    {
      "cell_type": "code",
      "source": [
        "#checking for duplicates\n",
        "data.duplicated().any()\n"
      ],
      "metadata": {
        "colab": {
          "base_uri": "https://localhost:8080/"
        },
        "id": "nvY__B-Md419",
        "outputId": "8ea1ae41-4b77-4f1b-cb55-8b022fd2cd38"
      },
      "execution_count": null,
      "outputs": [
        {
          "output_type": "execute_result",
          "data": {
            "text/plain": [
              "False"
            ]
          },
          "metadata": {},
          "execution_count": 9
        }
      ]
    },
    {
      "cell_type": "markdown",
      "source": [
        "**Observation**\n",
        "Our dataset has no duplicated values"
      ],
      "metadata": {
        "id": "rlZyWKcIeI04"
      }
    },
    {
      "cell_type": "code",
      "source": [
        "#checking for missing values\n",
        "data.isnull().sum()"
      ],
      "metadata": {
        "colab": {
          "base_uri": "https://localhost:8080/"
        },
        "id": "oSJ0078veS8N",
        "outputId": "f7ebfa64-3f7b-43e6-d253-4679d1542bc8"
      },
      "execution_count": null,
      "outputs": [
        {
          "output_type": "execute_result",
          "data": {
            "text/plain": [
              "continent                      12478\n",
              "location                           0\n",
              "date                               0\n",
              "total_cases                     8904\n",
              "new_cases                       9144\n",
              "                               ...  \n",
              "female_smokers                 82225\n",
              "male_smokers                   84068\n",
              "handwashing_facilities        129459\n",
              "hospital_beds_per_thousand     58738\n",
              "life_expectancy                14266\n",
              "Length: 61, dtype: int64"
            ]
          },
          "metadata": {},
          "execution_count": 10
        }
      ]
    },
    {
      "cell_type": "markdown",
      "source": [
        "**Observation**\n",
        "   \n",
        "*   Due to the nature of the dataset,many columns have null values \n",
        "which appears to be natural.We will therefore go ahead and fill the null with zero to avoid blanks in our data."
      ],
      "metadata": {
        "id": "GYxcbQ3henQ-"
      }
    },
    {
      "cell_type": "code",
      "source": [
        "#filling null values with zero and checking to see whether the chang has been \n",
        "#effected\n",
        "data.fillna(0).head(2)\n"
      ],
      "metadata": {
        "colab": {
          "base_uri": "https://localhost:8080/",
          "height": 205
        },
        "id": "HcyEFBQAfuhM",
        "outputId": "39cddb74-cbca-450f-e800-b3b484e1b7c8"
      },
      "execution_count": null,
      "outputs": [
        {
          "output_type": "execute_result",
          "data": {
            "text/plain": [
              "  continent     location       date  total_cases  new_cases  \\\n",
              "0      Asia  Afghanistan  2/24/2020          5.0        5.0   \n",
              "1      Asia  Afghanistan  2/25/2020          5.0        0.0   \n",
              "\n",
              "   new_cases_smoothed  total_deaths  new_deaths  new_deaths_smoothed  \\\n",
              "0                 0.0           0.0         0.0                  0.0   \n",
              "1                 0.0           0.0         0.0                  0.0   \n",
              "\n",
              "   total_cases_per_million  ...  aged_70_older  gdp_per_capita  \\\n",
              "0                    0.125  ...          1.337        1803.987   \n",
              "1                    0.125  ...          1.337        1803.987   \n",
              "\n",
              "   extreme_poverty  cardiovasc_death_rate  diabetes_prevalence  \\\n",
              "0              0.0                597.029                 9.59   \n",
              "1              0.0                597.029                 9.59   \n",
              "\n",
              "   female_smokers  male_smokers  handwashing_facilities  \\\n",
              "0             0.0           0.0                  37.746   \n",
              "1             0.0           0.0                  37.746   \n",
              "\n",
              "   hospital_beds_per_thousand  life_expectancy  \n",
              "0                         0.5            64.83  \n",
              "1                         0.5            64.83  \n",
              "\n",
              "[2 rows x 61 columns]"
            ],
            "text/html": [
              "\n",
              "  <div id=\"df-27437024-beae-4e9c-96c9-4e7a8104b8b4\">\n",
              "    <div class=\"colab-df-container\">\n",
              "      <div>\n",
              "<style scoped>\n",
              "    .dataframe tbody tr th:only-of-type {\n",
              "        vertical-align: middle;\n",
              "    }\n",
              "\n",
              "    .dataframe tbody tr th {\n",
              "        vertical-align: top;\n",
              "    }\n",
              "\n",
              "    .dataframe thead th {\n",
              "        text-align: right;\n",
              "    }\n",
              "</style>\n",
              "<table border=\"1\" class=\"dataframe\">\n",
              "  <thead>\n",
              "    <tr style=\"text-align: right;\">\n",
              "      <th></th>\n",
              "      <th>continent</th>\n",
              "      <th>location</th>\n",
              "      <th>date</th>\n",
              "      <th>total_cases</th>\n",
              "      <th>new_cases</th>\n",
              "      <th>new_cases_smoothed</th>\n",
              "      <th>total_deaths</th>\n",
              "      <th>new_deaths</th>\n",
              "      <th>new_deaths_smoothed</th>\n",
              "      <th>total_cases_per_million</th>\n",
              "      <th>...</th>\n",
              "      <th>aged_70_older</th>\n",
              "      <th>gdp_per_capita</th>\n",
              "      <th>extreme_poverty</th>\n",
              "      <th>cardiovasc_death_rate</th>\n",
              "      <th>diabetes_prevalence</th>\n",
              "      <th>female_smokers</th>\n",
              "      <th>male_smokers</th>\n",
              "      <th>handwashing_facilities</th>\n",
              "      <th>hospital_beds_per_thousand</th>\n",
              "      <th>life_expectancy</th>\n",
              "    </tr>\n",
              "  </thead>\n",
              "  <tbody>\n",
              "    <tr>\n",
              "      <th>0</th>\n",
              "      <td>Asia</td>\n",
              "      <td>Afghanistan</td>\n",
              "      <td>2/24/2020</td>\n",
              "      <td>5.0</td>\n",
              "      <td>5.0</td>\n",
              "      <td>0.0</td>\n",
              "      <td>0.0</td>\n",
              "      <td>0.0</td>\n",
              "      <td>0.0</td>\n",
              "      <td>0.125</td>\n",
              "      <td>...</td>\n",
              "      <td>1.337</td>\n",
              "      <td>1803.987</td>\n",
              "      <td>0.0</td>\n",
              "      <td>597.029</td>\n",
              "      <td>9.59</td>\n",
              "      <td>0.0</td>\n",
              "      <td>0.0</td>\n",
              "      <td>37.746</td>\n",
              "      <td>0.5</td>\n",
              "      <td>64.83</td>\n",
              "    </tr>\n",
              "    <tr>\n",
              "      <th>1</th>\n",
              "      <td>Asia</td>\n",
              "      <td>Afghanistan</td>\n",
              "      <td>2/25/2020</td>\n",
              "      <td>5.0</td>\n",
              "      <td>0.0</td>\n",
              "      <td>0.0</td>\n",
              "      <td>0.0</td>\n",
              "      <td>0.0</td>\n",
              "      <td>0.0</td>\n",
              "      <td>0.125</td>\n",
              "      <td>...</td>\n",
              "      <td>1.337</td>\n",
              "      <td>1803.987</td>\n",
              "      <td>0.0</td>\n",
              "      <td>597.029</td>\n",
              "      <td>9.59</td>\n",
              "      <td>0.0</td>\n",
              "      <td>0.0</td>\n",
              "      <td>37.746</td>\n",
              "      <td>0.5</td>\n",
              "      <td>64.83</td>\n",
              "    </tr>\n",
              "  </tbody>\n",
              "</table>\n",
              "<p>2 rows × 61 columns</p>\n",
              "</div>\n",
              "      <button class=\"colab-df-convert\" onclick=\"convertToInteractive('df-27437024-beae-4e9c-96c9-4e7a8104b8b4')\"\n",
              "              title=\"Convert this dataframe to an interactive table.\"\n",
              "              style=\"display:none;\">\n",
              "        \n",
              "  <svg xmlns=\"http://www.w3.org/2000/svg\" height=\"24px\"viewBox=\"0 0 24 24\"\n",
              "       width=\"24px\">\n",
              "    <path d=\"M0 0h24v24H0V0z\" fill=\"none\"/>\n",
              "    <path d=\"M18.56 5.44l.94 2.06.94-2.06 2.06-.94-2.06-.94-.94-2.06-.94 2.06-2.06.94zm-11 1L8.5 8.5l.94-2.06 2.06-.94-2.06-.94L8.5 2.5l-.94 2.06-2.06.94zm10 10l.94 2.06.94-2.06 2.06-.94-2.06-.94-.94-2.06-.94 2.06-2.06.94z\"/><path d=\"M17.41 7.96l-1.37-1.37c-.4-.4-.92-.59-1.43-.59-.52 0-1.04.2-1.43.59L10.3 9.45l-7.72 7.72c-.78.78-.78 2.05 0 2.83L4 21.41c.39.39.9.59 1.41.59.51 0 1.02-.2 1.41-.59l7.78-7.78 2.81-2.81c.8-.78.8-2.07 0-2.86zM5.41 20L4 18.59l7.72-7.72 1.47 1.35L5.41 20z\"/>\n",
              "  </svg>\n",
              "      </button>\n",
              "      \n",
              "  <style>\n",
              "    .colab-df-container {\n",
              "      display:flex;\n",
              "      flex-wrap:wrap;\n",
              "      gap: 12px;\n",
              "    }\n",
              "\n",
              "    .colab-df-convert {\n",
              "      background-color: #E8F0FE;\n",
              "      border: none;\n",
              "      border-radius: 50%;\n",
              "      cursor: pointer;\n",
              "      display: none;\n",
              "      fill: #1967D2;\n",
              "      height: 32px;\n",
              "      padding: 0 0 0 0;\n",
              "      width: 32px;\n",
              "    }\n",
              "\n",
              "    .colab-df-convert:hover {\n",
              "      background-color: #E2EBFA;\n",
              "      box-shadow: 0px 1px 2px rgba(60, 64, 67, 0.3), 0px 1px 3px 1px rgba(60, 64, 67, 0.15);\n",
              "      fill: #174EA6;\n",
              "    }\n",
              "\n",
              "    [theme=dark] .colab-df-convert {\n",
              "      background-color: #3B4455;\n",
              "      fill: #D2E3FC;\n",
              "    }\n",
              "\n",
              "    [theme=dark] .colab-df-convert:hover {\n",
              "      background-color: #434B5C;\n",
              "      box-shadow: 0px 1px 3px 1px rgba(0, 0, 0, 0.15);\n",
              "      filter: drop-shadow(0px 1px 2px rgba(0, 0, 0, 0.3));\n",
              "      fill: #FFFFFF;\n",
              "    }\n",
              "  </style>\n",
              "\n",
              "      <script>\n",
              "        const buttonEl =\n",
              "          document.querySelector('#df-27437024-beae-4e9c-96c9-4e7a8104b8b4 button.colab-df-convert');\n",
              "        buttonEl.style.display =\n",
              "          google.colab.kernel.accessAllowed ? 'block' : 'none';\n",
              "\n",
              "        async function convertToInteractive(key) {\n",
              "          const element = document.querySelector('#df-27437024-beae-4e9c-96c9-4e7a8104b8b4');\n",
              "          const dataTable =\n",
              "            await google.colab.kernel.invokeFunction('convertToInteractive',\n",
              "                                                     [key], {});\n",
              "          if (!dataTable) return;\n",
              "\n",
              "          const docLinkHtml = 'Like what you see? Visit the ' +\n",
              "            '<a target=\"_blank\" href=https://colab.research.google.com/notebooks/data_table.ipynb>data table notebook</a>'\n",
              "            + ' to learn more about interactive tables.';\n",
              "          element.innerHTML = '';\n",
              "          dataTable['output_type'] = 'display_data';\n",
              "          await google.colab.output.renderOutput(dataTable, element);\n",
              "          const docLink = document.createElement('div');\n",
              "          docLink.innerHTML = docLinkHtml;\n",
              "          element.appendChild(docLink);\n",
              "        }\n",
              "      </script>\n",
              "    </div>\n",
              "  </div>\n",
              "  "
            ]
          },
          "metadata": {},
          "execution_count": 11
        }
      ]
    },
    {
      "cell_type": "code",
      "source": [
        "#dropping the columns that we won't need for our analysis\n",
        "data_new=data.drop(columns=['new_deaths','new_deaths_smoothed','new_cases_per_million',\n",
        "                            'new_cases_smoothed_per_million','total_deaths_per_million',\n",
        " 'new_deaths_per_million','new_deaths_smoothed_per_million','icu_patients_per_million',\n",
        " 'weekly_icu_admissions_per_million','weekly_hosp_admissions_per_million','total_tests_per_thousand', \n",
        " 'new_tests_per_thousand','tests_units','new_vaccinations_smoothed','new_people_vaccinated_smoothed_per_hundred', \n",
        " 'stringency_index'])\n"
      ],
      "metadata": {
        "id": "sA3a2f98ikHW"
      },
      "execution_count": null,
      "outputs": []
    },
    {
      "cell_type": "markdown",
      "source": [
        "We will work with the dataset as it is now even though some of the columns may not be used."
      ],
      "metadata": {
        "id": "IYfHt3D-mJuJ"
      }
    },
    {
      "cell_type": "code",
      "source": [
        "data_new.head(2)"
      ],
      "metadata": {
        "colab": {
          "base_uri": "https://localhost:8080/",
          "height": 205
        },
        "id": "gCZbCMU1l0Pm",
        "outputId": "5d9bd5ab-8c88-4943-d4a6-8c59e95b0ae7"
      },
      "execution_count": null,
      "outputs": [
        {
          "output_type": "execute_result",
          "data": {
            "text/plain": [
              "  continent     location       date  total_cases  new_cases  \\\n",
              "0      Asia  Afghanistan  2/24/2020          5.0        5.0   \n",
              "1      Asia  Afghanistan  2/25/2020          5.0        0.0   \n",
              "\n",
              "   new_cases_smoothed  total_deaths  total_cases_per_million  \\\n",
              "0                 NaN           NaN                    0.125   \n",
              "1                 NaN           NaN                    0.125   \n",
              "\n",
              "   reproduction_rate  icu_patients  ...  aged_70_older  gdp_per_capita  \\\n",
              "0                NaN           NaN  ...          1.337        1803.987   \n",
              "1                NaN           NaN  ...          1.337        1803.987   \n",
              "\n",
              "   extreme_poverty  cardiovasc_death_rate  diabetes_prevalence  \\\n",
              "0              NaN                597.029                 9.59   \n",
              "1              NaN                597.029                 9.59   \n",
              "\n",
              "   female_smokers  male_smokers  handwashing_facilities  \\\n",
              "0             NaN           NaN                  37.746   \n",
              "1             NaN           NaN                  37.746   \n",
              "\n",
              "   hospital_beds_per_thousand  life_expectancy  \n",
              "0                         0.5            64.83  \n",
              "1                         0.5            64.83  \n",
              "\n",
              "[2 rows x 45 columns]"
            ],
            "text/html": [
              "\n",
              "  <div id=\"df-8dd64430-ddee-4012-a180-d0266761b026\">\n",
              "    <div class=\"colab-df-container\">\n",
              "      <div>\n",
              "<style scoped>\n",
              "    .dataframe tbody tr th:only-of-type {\n",
              "        vertical-align: middle;\n",
              "    }\n",
              "\n",
              "    .dataframe tbody tr th {\n",
              "        vertical-align: top;\n",
              "    }\n",
              "\n",
              "    .dataframe thead th {\n",
              "        text-align: right;\n",
              "    }\n",
              "</style>\n",
              "<table border=\"1\" class=\"dataframe\">\n",
              "  <thead>\n",
              "    <tr style=\"text-align: right;\">\n",
              "      <th></th>\n",
              "      <th>continent</th>\n",
              "      <th>location</th>\n",
              "      <th>date</th>\n",
              "      <th>total_cases</th>\n",
              "      <th>new_cases</th>\n",
              "      <th>new_cases_smoothed</th>\n",
              "      <th>total_deaths</th>\n",
              "      <th>total_cases_per_million</th>\n",
              "      <th>reproduction_rate</th>\n",
              "      <th>icu_patients</th>\n",
              "      <th>...</th>\n",
              "      <th>aged_70_older</th>\n",
              "      <th>gdp_per_capita</th>\n",
              "      <th>extreme_poverty</th>\n",
              "      <th>cardiovasc_death_rate</th>\n",
              "      <th>diabetes_prevalence</th>\n",
              "      <th>female_smokers</th>\n",
              "      <th>male_smokers</th>\n",
              "      <th>handwashing_facilities</th>\n",
              "      <th>hospital_beds_per_thousand</th>\n",
              "      <th>life_expectancy</th>\n",
              "    </tr>\n",
              "  </thead>\n",
              "  <tbody>\n",
              "    <tr>\n",
              "      <th>0</th>\n",
              "      <td>Asia</td>\n",
              "      <td>Afghanistan</td>\n",
              "      <td>2/24/2020</td>\n",
              "      <td>5.0</td>\n",
              "      <td>5.0</td>\n",
              "      <td>NaN</td>\n",
              "      <td>NaN</td>\n",
              "      <td>0.125</td>\n",
              "      <td>NaN</td>\n",
              "      <td>NaN</td>\n",
              "      <td>...</td>\n",
              "      <td>1.337</td>\n",
              "      <td>1803.987</td>\n",
              "      <td>NaN</td>\n",
              "      <td>597.029</td>\n",
              "      <td>9.59</td>\n",
              "      <td>NaN</td>\n",
              "      <td>NaN</td>\n",
              "      <td>37.746</td>\n",
              "      <td>0.5</td>\n",
              "      <td>64.83</td>\n",
              "    </tr>\n",
              "    <tr>\n",
              "      <th>1</th>\n",
              "      <td>Asia</td>\n",
              "      <td>Afghanistan</td>\n",
              "      <td>2/25/2020</td>\n",
              "      <td>5.0</td>\n",
              "      <td>0.0</td>\n",
              "      <td>NaN</td>\n",
              "      <td>NaN</td>\n",
              "      <td>0.125</td>\n",
              "      <td>NaN</td>\n",
              "      <td>NaN</td>\n",
              "      <td>...</td>\n",
              "      <td>1.337</td>\n",
              "      <td>1803.987</td>\n",
              "      <td>NaN</td>\n",
              "      <td>597.029</td>\n",
              "      <td>9.59</td>\n",
              "      <td>NaN</td>\n",
              "      <td>NaN</td>\n",
              "      <td>37.746</td>\n",
              "      <td>0.5</td>\n",
              "      <td>64.83</td>\n",
              "    </tr>\n",
              "  </tbody>\n",
              "</table>\n",
              "<p>2 rows × 45 columns</p>\n",
              "</div>\n",
              "      <button class=\"colab-df-convert\" onclick=\"convertToInteractive('df-8dd64430-ddee-4012-a180-d0266761b026')\"\n",
              "              title=\"Convert this dataframe to an interactive table.\"\n",
              "              style=\"display:none;\">\n",
              "        \n",
              "  <svg xmlns=\"http://www.w3.org/2000/svg\" height=\"24px\"viewBox=\"0 0 24 24\"\n",
              "       width=\"24px\">\n",
              "    <path d=\"M0 0h24v24H0V0z\" fill=\"none\"/>\n",
              "    <path d=\"M18.56 5.44l.94 2.06.94-2.06 2.06-.94-2.06-.94-.94-2.06-.94 2.06-2.06.94zm-11 1L8.5 8.5l.94-2.06 2.06-.94-2.06-.94L8.5 2.5l-.94 2.06-2.06.94zm10 10l.94 2.06.94-2.06 2.06-.94-2.06-.94-.94-2.06-.94 2.06-2.06.94z\"/><path d=\"M17.41 7.96l-1.37-1.37c-.4-.4-.92-.59-1.43-.59-.52 0-1.04.2-1.43.59L10.3 9.45l-7.72 7.72c-.78.78-.78 2.05 0 2.83L4 21.41c.39.39.9.59 1.41.59.51 0 1.02-.2 1.41-.59l7.78-7.78 2.81-2.81c.8-.78.8-2.07 0-2.86zM5.41 20L4 18.59l7.72-7.72 1.47 1.35L5.41 20z\"/>\n",
              "  </svg>\n",
              "      </button>\n",
              "      \n",
              "  <style>\n",
              "    .colab-df-container {\n",
              "      display:flex;\n",
              "      flex-wrap:wrap;\n",
              "      gap: 12px;\n",
              "    }\n",
              "\n",
              "    .colab-df-convert {\n",
              "      background-color: #E8F0FE;\n",
              "      border: none;\n",
              "      border-radius: 50%;\n",
              "      cursor: pointer;\n",
              "      display: none;\n",
              "      fill: #1967D2;\n",
              "      height: 32px;\n",
              "      padding: 0 0 0 0;\n",
              "      width: 32px;\n",
              "    }\n",
              "\n",
              "    .colab-df-convert:hover {\n",
              "      background-color: #E2EBFA;\n",
              "      box-shadow: 0px 1px 2px rgba(60, 64, 67, 0.3), 0px 1px 3px 1px rgba(60, 64, 67, 0.15);\n",
              "      fill: #174EA6;\n",
              "    }\n",
              "\n",
              "    [theme=dark] .colab-df-convert {\n",
              "      background-color: #3B4455;\n",
              "      fill: #D2E3FC;\n",
              "    }\n",
              "\n",
              "    [theme=dark] .colab-df-convert:hover {\n",
              "      background-color: #434B5C;\n",
              "      box-shadow: 0px 1px 3px 1px rgba(0, 0, 0, 0.15);\n",
              "      filter: drop-shadow(0px 1px 2px rgba(0, 0, 0, 0.3));\n",
              "      fill: #FFFFFF;\n",
              "    }\n",
              "  </style>\n",
              "\n",
              "      <script>\n",
              "        const buttonEl =\n",
              "          document.querySelector('#df-8dd64430-ddee-4012-a180-d0266761b026 button.colab-df-convert');\n",
              "        buttonEl.style.display =\n",
              "          google.colab.kernel.accessAllowed ? 'block' : 'none';\n",
              "\n",
              "        async function convertToInteractive(key) {\n",
              "          const element = document.querySelector('#df-8dd64430-ddee-4012-a180-d0266761b026');\n",
              "          const dataTable =\n",
              "            await google.colab.kernel.invokeFunction('convertToInteractive',\n",
              "                                                     [key], {});\n",
              "          if (!dataTable) return;\n",
              "\n",
              "          const docLinkHtml = 'Like what you see? Visit the ' +\n",
              "            '<a target=\"_blank\" href=https://colab.research.google.com/notebooks/data_table.ipynb>data table notebook</a>'\n",
              "            + ' to learn more about interactive tables.';\n",
              "          element.innerHTML = '';\n",
              "          dataTable['output_type'] = 'display_data';\n",
              "          await google.colab.output.renderOutput(dataTable, element);\n",
              "          const docLink = document.createElement('div');\n",
              "          docLink.innerHTML = docLinkHtml;\n",
              "          element.appendChild(docLink);\n",
              "        }\n",
              "      </script>\n",
              "    </div>\n",
              "  </div>\n",
              "  "
            ]
          },
          "metadata": {},
          "execution_count": 13
        }
      ]
    },
    {
      "cell_type": "code",
      "source": [
        "#checking for the number of countries in the dataset\n",
        "data_new.location.nunique()"
      ],
      "metadata": {
        "colab": {
          "base_uri": "https://localhost:8080/"
        },
        "id": "TctcEP1KxAq-",
        "outputId": "ae6c5e1d-2e80-41ed-e2c2-86b467196bff"
      },
      "execution_count": null,
      "outputs": [
        {
          "output_type": "execute_result",
          "data": {
            "text/plain": [
              "244"
            ]
          },
          "metadata": {},
          "execution_count": 14
        }
      ]
    },
    {
      "cell_type": "markdown",
      "source": [
        "The dataset has 244 countries."
      ],
      "metadata": {
        "id": "_isNJw56xLYh"
      }
    },
    {
      "cell_type": "code",
      "source": [
        "#checking for outliers using box plot\n",
        "fig, ax = plt.subplots(1,2, figsize=(20,8))\n",
        "fig.suptitle('Boxplots')\n",
        "\n",
        "sns.boxplot(data=data_new, y = 'handwashing_facilities', ax=ax[0], color = 'maroon')\n",
        "ax[0].set_title('Box Plot of handwashing facilities')\n",
        "\n",
        "sns.boxplot(data=data_new, y = 'extreme_poverty', ax=ax[1], color = 'red')\n",
        "ax[1].set_title('Box Plot of extreme_poverty')\n",
        "plt.show()\n"
      ],
      "metadata": {
        "colab": {
          "base_uri": "https://localhost:8080/",
          "height": 527
        },
        "id": "O9n7hc3KmaeO",
        "outputId": "d5bb9867-fa09-4e0d-c903-eaf18b522034"
      },
      "execution_count": 62,
      "outputs": [
        {
          "output_type": "display_data",
          "data": {
            "text/plain": [
              "<Figure size 1440x576 with 2 Axes>"
            ],
            "image/png": "[encoded data removed]"
          },
          "metadata": {
            "needs_background": "light"
          }
        }
      ]
    },
    {
      "cell_type": "markdown",
      "source": [
        "**Observation**\n",
        "\n",
        "\n",
        "*   There seems to be outliers in the data but we will work with the data as is because it is natural to the data.\n",
        "\n",
        "\n"
      ],
      "metadata": {
        "id": "zWwEwi15rc9v"
      }
    },
    {
      "cell_type": "markdown",
      "source": [
        "**EXPLORATORY DATA ANALYSIS**\n",
        "\n",
        "\n",
        "*   **Univarite analysis**\n",
        "\n",
        "\n",
        "\n",
        "This refers to the analysis of one variable\n",
        "\n",
        "\n",
        "\n",
        "\n"
      ],
      "metadata": {
        "id": "S2HxgSgir-I9"
      }
    },
    {
      "cell_type": "code",
      "source": [
        "#Check the frequency table of 'continent' variable\n",
        "data_new.continent.value_counts()\n"
      ],
      "metadata": {
        "colab": {
          "base_uri": "https://localhost:8080/"
        },
        "id": "R82wa334uAy7",
        "outputId": "d1b68e5b-bec5-408b-cd6d-169aa0768144"
      },
      "execution_count": null,
      "outputs": [
        {
          "output_type": "execute_result",
          "data": {
            "text/plain": [
              "Africa           50088\n",
              "Europe           46906\n",
              "Asia             46550\n",
              "North America    33346\n",
              "Oceania          15409\n",
              "South America    12039\n",
              "Name: continent, dtype: int64"
            ]
          },
          "metadata": {},
          "execution_count": 16
        }
      ]
    },
    {
      "cell_type": "markdown",
      "source": [
        "**Observations**\n",
        "\n",
        "\n",
        "*   Africa has the highest number of entries while South Africa has the lowest.The dataset also has records for 6 continents.\n",
        "\n",
        "\n",
        "\n"
      ],
      "metadata": {
        "id": "dibjaEz7uziR"
      }
    },
    {
      "cell_type": "code",
      "source": [
        "#Check the frequency table of 'continent' variable\n",
        "data_new.location.value_counts()\n"
      ],
      "metadata": {
        "colab": {
          "base_uri": "https://localhost:8080/"
        },
        "id": "2MA2lASvvGMn",
        "outputId": "fd3566eb-ba1f-4e5c-f8ba-fff0af888ace"
      },
      "execution_count": null,
      "outputs": [
        {
          "output_type": "execute_result",
          "data": {
            "text/plain": [
              "Argentina          989\n",
              "Mexico             989\n",
              "Thailand           986\n",
              "Taiwan             974\n",
              "Macao              968\n",
              "                  ... \n",
              "Niue               408\n",
              "Palau              390\n",
              "Turkmenistan       372\n",
              "Northern Cyprus    317\n",
              "Western Sahara       1\n",
              "Name: location, Length: 244, dtype: int64"
            ]
          },
          "metadata": {},
          "execution_count": 17
        }
      ]
    },
    {
      "cell_type": "markdown",
      "source": [
        "**Observation**\n",
        "\n",
        "\n",
        "*   The data set has 244 countries with Western Sahara having the lowest value count and Argentina with the highest.\n",
        "\n",
        "\n",
        "\n"
      ],
      "metadata": {
        "id": "bmU9heYbv7hx"
      }
    },
    {
      "cell_type": "code",
      "source": [
        "#visualizing the total number of deaths in each continent using a bar chart\n",
        "data_new.groupby(['continent'])['total_deaths'].sum().plot.bar(rot =0,figsize=(10,5),color='Maroon')\n",
        "plt.xlabel(\"Continent\")\n",
        "plt.ylabel(\"Count\")\n",
        "plt.title(\"Bar chart of total number of deaths in each continent\")\n",
        "plt.xticks(rotation = 45)\n",
        "plt.show()"
      ],
      "metadata": {
        "colab": {
          "base_uri": "https://localhost:8080/",
          "height": 399
        },
        "id": "rAu_yXiQ1Bjo",
        "outputId": "74c9057c-e6bb-4886-d080-e60efb92f943"
      },
      "execution_count": null,
      "outputs": [
        {
          "output_type": "display_data",
          "data": {
            "text/plain": [
              "<Figure size 720x360 with 1 Axes>"
            ],
            "image/png": "[encoded data removed]"
          },
          "metadata": {
            "needs_background": "light"
          }
        }
      ]
    },
    {
      "cell_type": "markdown",
      "source": [
        "**Oservation**\n",
        "\n",
        "\n",
        "*   From the above Bar chart, Europe lost the highest number of people to Covid 19 while Oceania and Africa had the least numbers.\n",
        "\n",
        "\n"
      ],
      "metadata": {
        "id": "9rk4dpXM2qTo"
      }
    },
    {
      "cell_type": "code",
      "source": [
        "#visualizing the total new cases in each continent using a bar chart\n",
        "data_new.groupby(['continent'])['new_cases'].sum().plot.bar(rot =0,figsize=(10,7),color='Green')\n",
        "plt.xlabel(\"Continent\")\n",
        "plt.ylabel(\"Count\")\n",
        "plt.title(\"Bar chart of new cases per continent\")\n",
        "plt.xticks(rotation = 45)\n",
        "plt.show()"
      ],
      "metadata": {
        "colab": {
          "base_uri": "https://localhost:8080/",
          "height": 507
        },
        "id": "VXH4kHsR5tIP",
        "outputId": "351075e4-82e1-4a29-c68d-256406a04353"
      },
      "execution_count": 63,
      "outputs": [
        {
          "output_type": "display_data",
          "data": {
            "text/plain": [
              "<Figure size 720x504 with 1 Axes>"
            ],
            "image/png": "[encoded data removed]"
          },
          "metadata": {
            "needs_background": "light"
          }
        }
      ]
    },
    {
      "cell_type": "markdown",
      "source": [
        "**Observation**\n",
        "\n",
        "\n",
        "*   Europe and Asia have the highest number of new cases per day.\n",
        "\n",
        "\n"
      ],
      "metadata": {
        "id": "7DWLcaW55-WA"
      }
    },
    {
      "cell_type": "code",
      "source": [
        "data_new.groupby(['continent'])['reproduction_rate'].sum().plot.bar(rot =0,figsize=(10,5),color='blue')\n",
        "plt.xlabel(\"Continent\")\n",
        "plt.ylabel(\"Frequency\")\n",
        "plt.title(\"Bar chart of reproduction rate per continent\")\n",
        "plt.xticks(rotation = 45)\n",
        "plt.show()\n"
      ],
      "metadata": {
        "colab": {
          "base_uri": "https://localhost:8080/",
          "height": 399
        },
        "id": "NsF_i5wt0yyH",
        "outputId": "7387aed4-f0c7-498e-d7f3-1886e875590f"
      },
      "execution_count": null,
      "outputs": [
        {
          "output_type": "display_data",
          "data": {
            "text/plain": [
              "<Figure size 720x360 with 1 Axes>"
            ],
            "image/png": "[encoded data removed]"
          },
          "metadata": {
            "needs_background": "light"
          }
        }
      ]
    },
    {
      "cell_type": "markdown",
      "source": [
        "**Observation**\n",
        "\n",
        "\n",
        "*  From the data,Europe,Asia and Africa maintained a high reproduction rate despite the pandemic.\n",
        "\n",
        "\n",
        "*   Oceania had a low reproduction rate\n",
        "\n",
        "\n",
        "\n",
        "\n",
        "\n"
      ],
      "metadata": {
        "id": "tXBh6TFD1wbu"
      }
    },
    {
      "cell_type": "code",
      "source": [
        "#visualizing the total new cases in each continent using a bar chart\n",
        "data_new.groupby(['continent'])['handwashing_facilities'].sum().plot.bar(rot =0,figsize=(10,5),color='red')\n",
        "plt.xlabel(\"Continent\")\n",
        "plt.ylabel(\"handwashing facilities\")\n",
        "plt.title(\"Bar chart of handwashing facilities per continent\")\n",
        "plt.xticks(rotation = 45)\n",
        "plt.show()"
      ],
      "metadata": {
        "colab": {
          "base_uri": "https://localhost:8080/",
          "height": 399
        },
        "id": "iBpNFwp05HXf",
        "outputId": "16454fcf-8e51-4a87-89f3-c30b963be30a"
      },
      "execution_count": null,
      "outputs": [
        {
          "output_type": "display_data",
          "data": {
            "text/plain": [
              "<Figure size 720x360 with 1 Axes>"
            ],
            "image/png": "[encoded data removed]"
          },
          "metadata": {
            "needs_background": "light"
          }
        }
      ]
    },
    {
      "cell_type": "code",
      "source": [
        "#plotting distribution plot of aged 70 and older\n",
        "plt.figure(figsize=(12,5))\n",
        "plt.title(\"Distribution of age\")\n",
        "ax = sns.distplot(data_new[\"aged_70_older\"], color = 'm')\n",
        "plt.show()"
      ],
      "metadata": {
        "colab": {
          "base_uri": "https://localhost:8080/",
          "height": 407
        },
        "id": "DPa9_ST7Ubzu",
        "outputId": "5b7c7ce8-8eee-403e-c00a-29211b1f87a2"
      },
      "execution_count": 54,
      "outputs": [
        {
          "output_type": "stream",
          "name": "stderr",
          "text": [
            "/usr/local/lib/python3.7/dist-packages/seaborn/distributions.py:2619: FutureWarning: `distplot` is a deprecated function and will be removed in a future version. Please adapt your code to use either `displot` (a figure-level function with similar flexibility) or `histplot` (an axes-level function for histograms).\n",
            "  warnings.warn(msg, FutureWarning)\n"
          ]
        },
        {
          "output_type": "display_data",
          "data": {
            "text/plain": [
              "<Figure size 864x360 with 1 Axes>"
            ],
            "image/png": "[encoded data removed]"
          },
          "metadata": {
            "needs_background": "light"
          }
        }
      ]
    },
    {
      "cell_type": "markdown",
      "source": [
        "The distribution shows a positive skeweness in the age distribution because the tail is longer on the right side.This indicates that the mean is greater than the median."
      ],
      "metadata": {
        "id": "hJuliPuJWT3W"
      }
    },
    {
      "cell_type": "code",
      "source": [],
      "metadata": {
        "id": "nl8d01rWYDXb"
      },
      "execution_count": null,
      "outputs": []
    },
    {
      "cell_type": "markdown",
      "source": [
        "**Observation**\n",
        "\n",
        "\n",
        "*   Asia had the highest number of handwashing facilities while Oceania had the lowest\n",
        "\n",
        "\n"
      ],
      "metadata": {
        "id": "Bzaa7amQ6mgT"
      }
    },
    {
      "cell_type": "markdown",
      "source": [
        "**Bivariate Anaysis**\n",
        "\n",
        "\n",
        "*   This involves the analysis of any concurrent relation between  two-variable. \n",
        "\n"
      ],
      "metadata": {
        "id": "puytbez17pSk"
      }
    },
    {
      "cell_type": "code",
      "source": [
        "# Determining the correlation coeffient between the total deaths and aged 70 and above\n",
        "# We'll use the pearson coefficient\n",
        "pearson_coeff = data_new[\"total_deaths\"].corr(data_new['aged_70_older'], method=\"pearson\")\n",
        "print(pearson_coeff)"
      ],
      "metadata": {
        "id": "VJqVInlN_J4H",
        "colab": {
          "base_uri": "https://localhost:8080/"
        },
        "outputId": "eadc5ca8-d640-4f51-a4aa-15ef47b3da68"
      },
      "execution_count": 42,
      "outputs": [
        {
          "output_type": "stream",
          "name": "stdout",
          "text": [
            "0.02624028853345184\n"
          ]
        }
      ]
    },
    {
      "cell_type": "code",
      "source": [
        "# Visualizing the correlation using a heat map\n",
        "plt.figure(figsize=(15,10))\n",
        "sns.heatmap(data_new[[\"total_deaths\", \"aged_70_older\"]].corr(), annot=True)\n"
      ],
      "metadata": {
        "colab": {
          "base_uri": "https://localhost:8080/",
          "height": 614
        },
        "id": "sJOX41ECC4Nc",
        "outputId": "44837e6e-fb5b-458f-8764-61113689cc76"
      },
      "execution_count": 45,
      "outputs": [
        {
          "output_type": "execute_result",
          "data": {
            "text/plain": [
              "<matplotlib.axes._subplots.AxesSubplot at 0x7f6f211eb5d0>"
            ]
          },
          "metadata": {},
          "execution_count": 45
        },
        {
          "output_type": "display_data",
          "data": {
            "text/plain": [
              "<Figure size 1080x720 with 2 Axes>"
            ],
            "image/png": "[encoded data removed]"
          },
          "metadata": {
            "needs_background": "light"
          }
        }
      ]
    },
    {
      "cell_type": "markdown",
      "source": [
        "**Observation**\n",
        "\n",
        "*  The heatmap shows a weak positive correlation between the total deaths and aged 70 and above.\n",
        "\n",
        "\n",
        "\n",
        "\n",
        "\n"
      ],
      "metadata": {
        "id": "NuVV7BUFDNsD"
      }
    },
    {
      "cell_type": "code",
      "source": [
        "data_new.head(2)"
      ],
      "metadata": {
        "colab": {
          "base_uri": "https://localhost:8080/",
          "height": 206
        },
        "id": "K2hohdhpBJw7",
        "outputId": "c1f30788-3f74-42a3-8134-449e094067c7"
      },
      "execution_count": 41,
      "outputs": [
        {
          "output_type": "execute_result",
          "data": {
            "text/plain": [
              "  continent     location       date  total_cases  new_cases  \\\n",
              "0      Asia  Afghanistan  2/24/2020          5.0        5.0   \n",
              "1      Asia  Afghanistan  2/25/2020          5.0        0.0   \n",
              "\n",
              "   new_cases_smoothed  total_deaths  total_cases_per_million  \\\n",
              "0                 NaN           NaN                    0.125   \n",
              "1                 NaN           NaN                    0.125   \n",
              "\n",
              "   reproduction_rate  icu_patients  ...  aged_70_older  gdp_per_capita  \\\n",
              "0                NaN           NaN  ...          1.337        1803.987   \n",
              "1                NaN           NaN  ...          1.337        1803.987   \n",
              "\n",
              "   extreme_poverty  cardiovasc_death_rate  diabetes_prevalence  \\\n",
              "0              NaN                597.029                 9.59   \n",
              "1              NaN                597.029                 9.59   \n",
              "\n",
              "   female_smokers  male_smokers  handwashing_facilities  \\\n",
              "0             NaN           NaN                  37.746   \n",
              "1             NaN           NaN                  37.746   \n",
              "\n",
              "   hospital_beds_per_thousand  life_expectancy  \n",
              "0                         0.5            64.83  \n",
              "1                         0.5            64.83  \n",
              "\n",
              "[2 rows x 45 columns]"
            ],
            "text/html": [
              "\n",
              "  <div id=\"df-e4249058-0a6b-4816-a4e3-7c1efe5ceda7\">\n",
              "    <div class=\"colab-df-container\">\n",
              "      <div>\n",
              "<style scoped>\n",
              "    .dataframe tbody tr th:only-of-type {\n",
              "        vertical-align: middle;\n",
              "    }\n",
              "\n",
              "    .dataframe tbody tr th {\n",
              "        vertical-align: top;\n",
              "    }\n",
              "\n",
              "    .dataframe thead th {\n",
              "        text-align: right;\n",
              "    }\n",
              "</style>\n",
              "<table border=\"1\" class=\"dataframe\">\n",
              "  <thead>\n",
              "    <tr style=\"text-align: right;\">\n",
              "      <th></th>\n",
              "      <th>continent</th>\n",
              "      <th>location</th>\n",
              "      <th>date</th>\n",
              "      <th>total_cases</th>\n",
              "      <th>new_cases</th>\n",
              "      <th>new_cases_smoothed</th>\n",
              "      <th>total_deaths</th>\n",
              "      <th>total_cases_per_million</th>\n",
              "      <th>reproduction_rate</th>\n",
              "      <th>icu_patients</th>\n",
              "      <th>...</th>\n",
              "      <th>aged_70_older</th>\n",
              "      <th>gdp_per_capita</th>\n",
              "      <th>extreme_poverty</th>\n",
              "      <th>cardiovasc_death_rate</th>\n",
              "      <th>diabetes_prevalence</th>\n",
              "      <th>female_smokers</th>\n",
              "      <th>male_smokers</th>\n",
              "      <th>handwashing_facilities</th>\n",
              "      <th>hospital_beds_per_thousand</th>\n",
              "      <th>life_expectancy</th>\n",
              "    </tr>\n",
              "  </thead>\n",
              "  <tbody>\n",
              "    <tr>\n",
              "      <th>0</th>\n",
              "      <td>Asia</td>\n",
              "      <td>Afghanistan</td>\n",
              "      <td>2/24/2020</td>\n",
              "      <td>5.0</td>\n",
              "      <td>5.0</td>\n",
              "      <td>NaN</td>\n",
              "      <td>NaN</td>\n",
              "      <td>0.125</td>\n",
              "      <td>NaN</td>\n",
              "      <td>NaN</td>\n",
              "      <td>...</td>\n",
              "      <td>1.337</td>\n",
              "      <td>1803.987</td>\n",
              "      <td>NaN</td>\n",
              "      <td>597.029</td>\n",
              "      <td>9.59</td>\n",
              "      <td>NaN</td>\n",
              "      <td>NaN</td>\n",
              "      <td>37.746</td>\n",
              "      <td>0.5</td>\n",
              "      <td>64.83</td>\n",
              "    </tr>\n",
              "    <tr>\n",
              "      <th>1</th>\n",
              "      <td>Asia</td>\n",
              "      <td>Afghanistan</td>\n",
              "      <td>2/25/2020</td>\n",
              "      <td>5.0</td>\n",
              "      <td>0.0</td>\n",
              "      <td>NaN</td>\n",
              "      <td>NaN</td>\n",
              "      <td>0.125</td>\n",
              "      <td>NaN</td>\n",
              "      <td>NaN</td>\n",
              "      <td>...</td>\n",
              "      <td>1.337</td>\n",
              "      <td>1803.987</td>\n",
              "      <td>NaN</td>\n",
              "      <td>597.029</td>\n",
              "      <td>9.59</td>\n",
              "      <td>NaN</td>\n",
              "      <td>NaN</td>\n",
              "      <td>37.746</td>\n",
              "      <td>0.5</td>\n",
              "      <td>64.83</td>\n",
              "    </tr>\n",
              "  </tbody>\n",
              "</table>\n",
              "<p>2 rows × 45 columns</p>\n",
              "</div>\n",
              "      <button class=\"colab-df-convert\" onclick=\"convertToInteractive('df-e4249058-0a6b-4816-a4e3-7c1efe5ceda7')\"\n",
              "              title=\"Convert this dataframe to an interactive table.\"\n",
              "              style=\"display:none;\">\n",
              "        \n",
              "  <svg xmlns=\"http://www.w3.org/2000/svg\" height=\"24px\"viewBox=\"0 0 24 24\"\n",
              "       width=\"24px\">\n",
              "    <path d=\"M0 0h24v24H0V0z\" fill=\"none\"/>\n",
              "    <path d=\"M18.56 5.44l.94 2.06.94-2.06 2.06-.94-2.06-.94-.94-2.06-.94 2.06-2.06.94zm-11 1L8.5 8.5l.94-2.06 2.06-.94-2.06-.94L8.5 2.5l-.94 2.06-2.06.94zm10 10l.94 2.06.94-2.06 2.06-.94-2.06-.94-.94-2.06-.94 2.06-2.06.94z\"/><path d=\"M17.41 7.96l-1.37-1.37c-.4-.4-.92-.59-1.43-.59-.52 0-1.04.2-1.43.59L10.3 9.45l-7.72 7.72c-.78.78-.78 2.05 0 2.83L4 21.41c.39.39.9.59 1.41.59.51 0 1.02-.2 1.41-.59l7.78-7.78 2.81-2.81c.8-.78.8-2.07 0-2.86zM5.41 20L4 18.59l7.72-7.72 1.47 1.35L5.41 20z\"/>\n",
              "  </svg>\n",
              "      </button>\n",
              "      \n",
              "  <style>\n",
              "    .colab-df-container {\n",
              "      display:flex;\n",
              "      flex-wrap:wrap;\n",
              "      gap: 12px;\n",
              "    }\n",
              "\n",
              "    .colab-df-convert {\n",
              "      background-color: #E8F0FE;\n",
              "      border: none;\n",
              "      border-radius: 50%;\n",
              "      cursor: pointer;\n",
              "      display: none;\n",
              "      fill: #1967D2;\n",
              "      height: 32px;\n",
              "      padding: 0 0 0 0;\n",
              "      width: 32px;\n",
              "    }\n",
              "\n",
              "    .colab-df-convert:hover {\n",
              "      background-color: #E2EBFA;\n",
              "      box-shadow: 0px 1px 2px rgba(60, 64, 67, 0.3), 0px 1px 3px 1px rgba(60, 64, 67, 0.15);\n",
              "      fill: #174EA6;\n",
              "    }\n",
              "\n",
              "    [theme=dark] .colab-df-convert {\n",
              "      background-color: #3B4455;\n",
              "      fill: #D2E3FC;\n",
              "    }\n",
              "\n",
              "    [theme=dark] .colab-df-convert:hover {\n",
              "      background-color: #434B5C;\n",
              "      box-shadow: 0px 1px 3px 1px rgba(0, 0, 0, 0.15);\n",
              "      filter: drop-shadow(0px 1px 2px rgba(0, 0, 0, 0.3));\n",
              "      fill: #FFFFFF;\n",
              "    }\n",
              "  </style>\n",
              "\n",
              "      <script>\n",
              "        const buttonEl =\n",
              "          document.querySelector('#df-e4249058-0a6b-4816-a4e3-7c1efe5ceda7 button.colab-df-convert');\n",
              "        buttonEl.style.display =\n",
              "          google.colab.kernel.accessAllowed ? 'block' : 'none';\n",
              "\n",
              "        async function convertToInteractive(key) {\n",
              "          const element = document.querySelector('#df-e4249058-0a6b-4816-a4e3-7c1efe5ceda7');\n",
              "          const dataTable =\n",
              "            await google.colab.kernel.invokeFunction('convertToInteractive',\n",
              "                                                     [key], {});\n",
              "          if (!dataTable) return;\n",
              "\n",
              "          const docLinkHtml = 'Like what you see? Visit the ' +\n",
              "            '<a target=\"_blank\" href=https://colab.research.google.com/notebooks/data_table.ipynb>data table notebook</a>'\n",
              "            + ' to learn more about interactive tables.';\n",
              "          element.innerHTML = '';\n",
              "          dataTable['output_type'] = 'display_data';\n",
              "          await google.colab.output.renderOutput(dataTable, element);\n",
              "          const docLink = document.createElement('div');\n",
              "          docLink.innerHTML = docLinkHtml;\n",
              "          element.appendChild(docLink);\n",
              "        }\n",
              "      </script>\n",
              "    </div>\n",
              "  </div>\n",
              "  "
            ]
          },
          "metadata": {},
          "execution_count": 41
        }
      ]
    },
    {
      "cell_type": "code",
      "source": [
        "pearson_coeff = data_new[\"total_deaths\"].corr(data_new['handwashing_facilities'], method=\"pearson\")\n",
        "print(pearson_coeff)"
      ],
      "metadata": {
        "colab": {
          "base_uri": "https://localhost:8080/"
        },
        "id": "C2gSvoijHHpK",
        "outputId": "36c632c5-9913-4150-9f55-c86a27a79697"
      },
      "execution_count": 49,
      "outputs": [
        {
          "output_type": "stream",
          "name": "stdout",
          "text": [
            "0.04260495788637144\n"
          ]
        }
      ]
    },
    {
      "cell_type": "markdown",
      "source": [
        "There is a weak positive correlation between total deaths and the handwashing facilities"
      ],
      "metadata": {
        "id": "uCToCOSTeN3t"
      }
    }
  ]
}